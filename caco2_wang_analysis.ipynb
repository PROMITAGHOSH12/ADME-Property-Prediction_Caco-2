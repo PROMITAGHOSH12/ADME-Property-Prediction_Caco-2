{
  "nbformat": 4,
  "nbformat_minor": 0,
  "metadata": {
    "colab": {
      "name": "caco2_wang_analysis.ipynb",
      "provenance": []
    },
    "kernelspec": {
      "name": "python3",
      "display_name": "Python 3"
    },
    "language_info": {
      "name": "python"
    }
  },
  "cells": [
    {
      "cell_type": "markdown",
      "source": [
        "IMPORTING LIBRARIES AND DATA"
      ],
      "metadata": {
        "id": "QBz8Mf_TyvOH"
      }
    },
    {
      "cell_type": "code",
      "execution_count": 1,
      "metadata": {
        "id": "7REL7f33WrDR"
      },
      "outputs": [],
      "source": [
        "import numpy as np\n",
        "import pandas as pd\n",
        "import matplotlib.pyplot as plt"
      ]
    },
    {
      "cell_type": "code",
      "source": [
        "pip install pyTDC"
      ],
      "metadata": {
        "colab": {
          "base_uri": "https://localhost:8080/"
        },
        "id": "tJdEsXYlZWyv",
        "outputId": "847d5ef4-c9f1-4ba4-b137-462da13a9544"
      },
      "execution_count": 2,
      "outputs": [
        {
          "output_type": "stream",
          "name": "stdout",
          "text": [
            "Requirement already satisfied: pyTDC in /usr/local/lib/python3.7/dist-packages (0.3.6)\n",
            "Requirement already satisfied: tqdm in /usr/local/lib/python3.7/dist-packages (from pyTDC) (4.63.0)\n",
            "Requirement already satisfied: fuzzywuzzy in /usr/local/lib/python3.7/dist-packages (from pyTDC) (0.18.0)\n",
            "Requirement already satisfied: pandas in /usr/local/lib/python3.7/dist-packages (from pyTDC) (1.3.5)\n",
            "Requirement already satisfied: scikit-learn in /usr/local/lib/python3.7/dist-packages (from pyTDC) (1.0.2)\n",
            "Requirement already satisfied: seaborn in /usr/local/lib/python3.7/dist-packages (from pyTDC) (0.11.2)\n",
            "Requirement already satisfied: numpy in /usr/local/lib/python3.7/dist-packages (from pyTDC) (1.21.5)\n",
            "Requirement already satisfied: python-dateutil>=2.7.3 in /usr/local/lib/python3.7/dist-packages (from pandas->pyTDC) (2.8.2)\n",
            "Requirement already satisfied: pytz>=2017.3 in /usr/local/lib/python3.7/dist-packages (from pandas->pyTDC) (2018.9)\n",
            "Requirement already satisfied: six>=1.5 in /usr/local/lib/python3.7/dist-packages (from python-dateutil>=2.7.3->pandas->pyTDC) (1.15.0)\n",
            "Requirement already satisfied: joblib>=0.11 in /usr/local/lib/python3.7/dist-packages (from scikit-learn->pyTDC) (1.1.0)\n",
            "Requirement already satisfied: threadpoolctl>=2.0.0 in /usr/local/lib/python3.7/dist-packages (from scikit-learn->pyTDC) (3.1.0)\n",
            "Requirement already satisfied: scipy>=1.1.0 in /usr/local/lib/python3.7/dist-packages (from scikit-learn->pyTDC) (1.4.1)\n",
            "Requirement already satisfied: matplotlib>=2.2 in /usr/local/lib/python3.7/dist-packages (from seaborn->pyTDC) (3.2.2)\n",
            "Requirement already satisfied: pyparsing!=2.0.4,!=2.1.2,!=2.1.6,>=2.0.1 in /usr/local/lib/python3.7/dist-packages (from matplotlib>=2.2->seaborn->pyTDC) (3.0.7)\n",
            "Requirement already satisfied: kiwisolver>=1.0.1 in /usr/local/lib/python3.7/dist-packages (from matplotlib>=2.2->seaborn->pyTDC) (1.3.2)\n",
            "Requirement already satisfied: cycler>=0.10 in /usr/local/lib/python3.7/dist-packages (from matplotlib>=2.2->seaborn->pyTDC) (0.11.0)\n"
          ]
        }
      ]
    },
    {
      "cell_type": "code",
      "source": [
        "pip install rdkit-pypi"
      ],
      "metadata": {
        "colab": {
          "base_uri": "https://localhost:8080/"
        },
        "id": "gP_RdX6oZWvU",
        "outputId": "4f0e9463-d835-4a50-d463-f5b66a7f43df"
      },
      "execution_count": 3,
      "outputs": [
        {
          "output_type": "stream",
          "name": "stdout",
          "text": [
            "Requirement already satisfied: rdkit-pypi in /usr/local/lib/python3.7/dist-packages (2021.9.5.1)\n",
            "Requirement already satisfied: numpy>=1.19 in /usr/local/lib/python3.7/dist-packages (from rdkit-pypi) (1.21.5)\n",
            "Requirement already satisfied: Pillow in /usr/local/lib/python3.7/dist-packages (from rdkit-pypi) (7.1.2)\n"
          ]
        }
      ]
    },
    {
      "cell_type": "code",
      "source": [
        "from tdc import utils\n",
        "names = utils.retrieve_benchmark_names('ADMET_Group')"
      ],
      "metadata": {
        "id": "-xyvDo9GttDV"
      },
      "execution_count": 4,
      "outputs": []
    },
    {
      "cell_type": "code",
      "source": [
        "names"
      ],
      "metadata": {
        "colab": {
          "base_uri": "https://localhost:8080/"
        },
        "id": "pRzRlpqHtyCS",
        "outputId": "56836a2f-37a9-44fc-e96b-6793fb2654d5"
      },
      "execution_count": 5,
      "outputs": [
        {
          "output_type": "execute_result",
          "data": {
            "text/plain": [
              "['caco2_wang',\n",
              " 'hia_hou',\n",
              " 'pgp_broccatelli',\n",
              " 'bioavailability_ma',\n",
              " 'lipophilicity_astrazeneca',\n",
              " 'solubility_aqsoldb',\n",
              " 'bbb_martins',\n",
              " 'ppbr_az',\n",
              " 'vdss_lombardo',\n",
              " 'cyp2d6_veith',\n",
              " 'cyp3a4_veith',\n",
              " 'cyp2c9_veith',\n",
              " 'cyp2d6_substrate_carbonmangels',\n",
              " 'cyp3a4_substrate_carbonmangels',\n",
              " 'cyp2c9_substrate_carbonmangels',\n",
              " 'half_life_obach',\n",
              " 'clearance_microsome_az',\n",
              " 'clearance_hepatocyte_az',\n",
              " 'herg',\n",
              " 'ames',\n",
              " 'dili',\n",
              " 'ld50_zhu']"
            ]
          },
          "metadata": {},
          "execution_count": 5
        }
      ]
    },
    {
      "cell_type": "code",
      "source": [
        "from tdc.benchmark_group import admet_group\n",
        "group = admet_group(path = 'data/')"
      ],
      "metadata": {
        "colab": {
          "base_uri": "https://localhost:8080/"
        },
        "id": "jARS-1Ayvc4i",
        "outputId": "78c01671-9459-4fcf-d084-b6d8dc84f476"
      },
      "execution_count": 6,
      "outputs": [
        {
          "output_type": "stream",
          "name": "stderr",
          "text": [
            "Found local copy...\n"
          ]
        }
      ]
    },
    {
      "cell_type": "code",
      "source": [
        "benchmark = group.get('caco2_wang')"
      ],
      "metadata": {
        "id": "XFVcB8_bbn5z"
      },
      "execution_count": 7,
      "outputs": []
    },
    {
      "cell_type": "code",
      "source": [
        "benchmark"
      ],
      "metadata": {
        "colab": {
          "base_uri": "https://localhost:8080/"
        },
        "id": "ee7YO72lb3rY",
        "outputId": "11d7676e-c5d6-43cf-88fe-a51ce68253c9"
      },
      "execution_count": 8,
      "outputs": [
        {
          "output_type": "execute_result",
          "data": {
            "text/plain": [
              "{'name': 'caco2_wang',\n",
              " 'test':                Drug_ID                                               Drug  \\\n",
              " 0                 I-II  O=C(O)C[C@@H](c1cnc2ccccc2c1)N1CC[C@@H](CCCc2c...   \n",
              " 1          aceclofenac              O=C(O)COC(=O)Cc1ccccc1Nc1c(Cl)cccc1Cl   \n",
              " 2           Diclofenac                     O=C(O)Cc1ccccc1Nc1c(Cl)cccc1Cl   \n",
              " 3       amfenac sodium         Nc1c(CC(=O)[O-])cccc1C(=O)c1ccccc1.O.[Na+]   \n",
              " 4              Amfenac                    Nc1c(CC(=O)O)cccc1C(=O)c1ccccc1   \n",
              " ..                 ...                                                ...   \n",
              " 177  Trimethobenzamide        COc1cc(C(=O)NCc2ccc(OCCN(C)C)cc2)cc(OC)c1OC   \n",
              " 178             EF5261  O=C(COc1ccc(C(=O)CN2CCN(C3CCN(C(=O)OC/C=C4/OC(...   \n",
              " 179          puerarin   O=c1c(-c2ccc(O)cc2)coc2c([C@@H]3O[C@H](CO)[C@@...   \n",
              " 180      Puerarin (34)  O=c1c(-c2ccc(O)cc2)coc2c(C3O[C@H](CO)[C@@H](O)...   \n",
              " 181                E28   CNC(=O)/C=C(/c1ccc2nc(N)n(C3CCCC3)c2c1)c1ccccc1F   \n",
              " \n",
              "             Y  \n",
              " 0   -5.690000  \n",
              " 1   -4.410000  \n",
              " 2   -4.460681  \n",
              " 3   -4.520000  \n",
              " 4   -4.520000  \n",
              " ..        ...  \n",
              " 177 -4.960000  \n",
              " 178 -4.400000  \n",
              " 179 -6.400000  \n",
              " 180 -6.398970  \n",
              " 181 -5.150000  \n",
              " \n",
              " [182 rows x 3 columns],\n",
              " 'train_val':                          Drug_ID  \\\n",
              " 0                        H 95/71   \n",
              " 1                       H 244/45   \n",
              " 2           D-Phe-D-Ala-D-Ser-OH   \n",
              " 3                 Dexloxiglumide   \n",
              " 4                   Ac-D-phe-NH2   \n",
              " ..                           ...   \n",
              " 723                           11   \n",
              " 724                  Gancyclovir   \n",
              " 725                      Val-ACV   \n",
              " 726  1033-Dextromethorphan (DEM)   \n",
              " 727             Dextromethorphan   \n",
              " \n",
              "                                                   Drug         Y  \n",
              " 0                          CC(C)NCC(O)COc1ccc(NC=O)cc1 -5.427984  \n",
              " 1                      CCC(=O)Nc1ccc(OCC(O)CNC(C)C)cc1 -5.219842  \n",
              " 2    C[C@H](NC(=O)[C@H](N)Cc1ccccc1)C(=O)N[C@H](CO)... -6.281999  \n",
              " 3    CCCCCN(CCCOC)C(=O)[C@@H](CCC(=O)O)NC(=O)c1ccc(... -5.140131  \n",
              " 4                       CC(=O)N[C@@H](Cc1ccccc1)C(N)=O -5.100090  \n",
              " ..                                                 ...       ...  \n",
              " 723  CCCCCCC(N)C(=O)N[C@@H](Cc1ccc(O)cc1)C(=O)N1CCC... -5.790000  \n",
              " 724                   Nc1nc2c(ncn2COC(CO)CO)c(=O)[nH]1 -6.101228  \n",
              " 725         CC(C)C(N)C(=O)OCCOCn1cnc2c(=O)[nH]c(N)nc21 -5.669776  \n",
              " 726   COc1ccc2c(c1)[C@@]13CCCC[C@@H]1[C@@H](C2)N(C)CC3 -4.628932  \n",
              " 727                 COc1ccc2c(c1)C13CCCCC1C(C2)N(C)CC3 -4.740000  \n",
              " \n",
              " [728 rows x 3 columns]}"
            ]
          },
          "metadata": {},
          "execution_count": 8
        }
      ]
    },
    {
      "cell_type": "code",
      "source": [
        "name = benchmark['name']\n",
        "train_val, test = benchmark['train_val'], benchmark['test']\n",
        "#Spliting the data\n",
        "train, valid = group.get_train_valid_split(benchmark = name, split_type = 'default',seed=2)"
      ],
      "metadata": {
        "colab": {
          "base_uri": "https://localhost:8080/"
        },
        "id": "ggSfDHLPbtvI",
        "outputId": "05b2b936-367f-4b7e-91ea-244301f3c4c2"
      },
      "execution_count": 9,
      "outputs": [
        {
          "output_type": "stream",
          "name": "stderr",
          "text": [
            "generating training, validation splits...\n",
            "100%|██████████| 728/728 [00:00<00:00, 2151.91it/s]\n"
          ]
        }
      ]
    },
    {
      "cell_type": "code",
      "source": [
        "print(train.shape)\n",
        "train.head(3)"
      ],
      "metadata": {
        "colab": {
          "base_uri": "https://localhost:8080/",
          "height": 161
        },
        "id": "5v0GwmWLTKdU",
        "outputId": "fe57cb9c-ae31-4e53-eeca-c5990b4dabd3"
      },
      "execution_count": 10,
      "outputs": [
        {
          "output_type": "stream",
          "name": "stdout",
          "text": [
            "(637, 3)\n"
          ]
        },
        {
          "output_type": "execute_result",
          "data": {
            "text/plain": [
              "           Drug_ID                                               Drug     Y\n",
              "0         MEN15353  O=C(NC1(C(=O)N[C@H](Cc2ccccc2)C(=O)NC2CCN(CC3C... -5.07\n",
              "1       Bromazepam                   O=C1CN=C(c2ccccn2)c2cc(Br)ccc2N1 -4.40\n",
              "2  neolignan smi02  C/C=C/c1cc(OC)c2c(c1)C(C)C(c1cc(OC)c(O)c(OC)c1)O2 -5.34"
            ],
            "text/html": [
              "\n",
              "  <div id=\"df-bc28deba-99bc-4daf-9c05-04e9dbce97c7\">\n",
              "    <div class=\"colab-df-container\">\n",
              "      <div>\n",
              "<style scoped>\n",
              "    .dataframe tbody tr th:only-of-type {\n",
              "        vertical-align: middle;\n",
              "    }\n",
              "\n",
              "    .dataframe tbody tr th {\n",
              "        vertical-align: top;\n",
              "    }\n",
              "\n",
              "    .dataframe thead th {\n",
              "        text-align: right;\n",
              "    }\n",
              "</style>\n",
              "<table border=\"1\" class=\"dataframe\">\n",
              "  <thead>\n",
              "    <tr style=\"text-align: right;\">\n",
              "      <th></th>\n",
              "      <th>Drug_ID</th>\n",
              "      <th>Drug</th>\n",
              "      <th>Y</th>\n",
              "    </tr>\n",
              "  </thead>\n",
              "  <tbody>\n",
              "    <tr>\n",
              "      <th>0</th>\n",
              "      <td>MEN15353</td>\n",
              "      <td>O=C(NC1(C(=O)N[C@H](Cc2ccccc2)C(=O)NC2CCN(CC3C...</td>\n",
              "      <td>-5.07</td>\n",
              "    </tr>\n",
              "    <tr>\n",
              "      <th>1</th>\n",
              "      <td>Bromazepam</td>\n",
              "      <td>O=C1CN=C(c2ccccn2)c2cc(Br)ccc2N1</td>\n",
              "      <td>-4.40</td>\n",
              "    </tr>\n",
              "    <tr>\n",
              "      <th>2</th>\n",
              "      <td>neolignan smi02</td>\n",
              "      <td>C/C=C/c1cc(OC)c2c(c1)C(C)C(c1cc(OC)c(O)c(OC)c1)O2</td>\n",
              "      <td>-5.34</td>\n",
              "    </tr>\n",
              "  </tbody>\n",
              "</table>\n",
              "</div>\n",
              "      <button class=\"colab-df-convert\" onclick=\"convertToInteractive('df-bc28deba-99bc-4daf-9c05-04e9dbce97c7')\"\n",
              "              title=\"Convert this dataframe to an interactive table.\"\n",
              "              style=\"display:none;\">\n",
              "        \n",
              "  <svg xmlns=\"http://www.w3.org/2000/svg\" height=\"24px\"viewBox=\"0 0 24 24\"\n",
              "       width=\"24px\">\n",
              "    <path d=\"M0 0h24v24H0V0z\" fill=\"none\"/>\n",
              "    <path d=\"M18.56 5.44l.94 2.06.94-2.06 2.06-.94-2.06-.94-.94-2.06-.94 2.06-2.06.94zm-11 1L8.5 8.5l.94-2.06 2.06-.94-2.06-.94L8.5 2.5l-.94 2.06-2.06.94zm10 10l.94 2.06.94-2.06 2.06-.94-2.06-.94-.94-2.06-.94 2.06-2.06.94z\"/><path d=\"M17.41 7.96l-1.37-1.37c-.4-.4-.92-.59-1.43-.59-.52 0-1.04.2-1.43.59L10.3 9.45l-7.72 7.72c-.78.78-.78 2.05 0 2.83L4 21.41c.39.39.9.59 1.41.59.51 0 1.02-.2 1.41-.59l7.78-7.78 2.81-2.81c.8-.78.8-2.07 0-2.86zM5.41 20L4 18.59l7.72-7.72 1.47 1.35L5.41 20z\"/>\n",
              "  </svg>\n",
              "      </button>\n",
              "      \n",
              "  <style>\n",
              "    .colab-df-container {\n",
              "      display:flex;\n",
              "      flex-wrap:wrap;\n",
              "      gap: 12px;\n",
              "    }\n",
              "\n",
              "    .colab-df-convert {\n",
              "      background-color: #E8F0FE;\n",
              "      border: none;\n",
              "      border-radius: 50%;\n",
              "      cursor: pointer;\n",
              "      display: none;\n",
              "      fill: #1967D2;\n",
              "      height: 32px;\n",
              "      padding: 0 0 0 0;\n",
              "      width: 32px;\n",
              "    }\n",
              "\n",
              "    .colab-df-convert:hover {\n",
              "      background-color: #E2EBFA;\n",
              "      box-shadow: 0px 1px 2px rgba(60, 64, 67, 0.3), 0px 1px 3px 1px rgba(60, 64, 67, 0.15);\n",
              "      fill: #174EA6;\n",
              "    }\n",
              "\n",
              "    [theme=dark] .colab-df-convert {\n",
              "      background-color: #3B4455;\n",
              "      fill: #D2E3FC;\n",
              "    }\n",
              "\n",
              "    [theme=dark] .colab-df-convert:hover {\n",
              "      background-color: #434B5C;\n",
              "      box-shadow: 0px 1px 3px 1px rgba(0, 0, 0, 0.15);\n",
              "      filter: drop-shadow(0px 1px 2px rgba(0, 0, 0, 0.3));\n",
              "      fill: #FFFFFF;\n",
              "    }\n",
              "  </style>\n",
              "\n",
              "      <script>\n",
              "        const buttonEl =\n",
              "          document.querySelector('#df-bc28deba-99bc-4daf-9c05-04e9dbce97c7 button.colab-df-convert');\n",
              "        buttonEl.style.display =\n",
              "          google.colab.kernel.accessAllowed ? 'block' : 'none';\n",
              "\n",
              "        async function convertToInteractive(key) {\n",
              "          const element = document.querySelector('#df-bc28deba-99bc-4daf-9c05-04e9dbce97c7');\n",
              "          const dataTable =\n",
              "            await google.colab.kernel.invokeFunction('convertToInteractive',\n",
              "                                                     [key], {});\n",
              "          if (!dataTable) return;\n",
              "\n",
              "          const docLinkHtml = 'Like what you see? Visit the ' +\n",
              "            '<a target=\"_blank\" href=https://colab.research.google.com/notebooks/data_table.ipynb>data table notebook</a>'\n",
              "            + ' to learn more about interactive tables.';\n",
              "          element.innerHTML = '';\n",
              "          dataTable['output_type'] = 'display_data';\n",
              "          await google.colab.output.renderOutput(dataTable, element);\n",
              "          const docLink = document.createElement('div');\n",
              "          docLink.innerHTML = docLinkHtml;\n",
              "          element.appendChild(docLink);\n",
              "        }\n",
              "      </script>\n",
              "    </div>\n",
              "  </div>\n",
              "  "
            ]
          },
          "metadata": {},
          "execution_count": 10
        }
      ]
    },
    {
      "cell_type": "code",
      "source": [
        "print(test.shape)\n",
        "test.head(5)"
      ],
      "metadata": {
        "id": "fOIPUye4TO0V",
        "colab": {
          "base_uri": "https://localhost:8080/",
          "height": 223
        },
        "outputId": "48bc36ff-7ff6-49f5-d708-eef8b5ef12d7"
      },
      "execution_count": 11,
      "outputs": [
        {
          "output_type": "stream",
          "name": "stdout",
          "text": [
            "(182, 3)\n"
          ]
        },
        {
          "output_type": "execute_result",
          "data": {
            "text/plain": [
              "          Drug_ID                                               Drug         Y\n",
              "0            I-II  O=C(O)C[C@@H](c1cnc2ccccc2c1)N1CC[C@@H](CCCc2c... -5.690000\n",
              "1     aceclofenac              O=C(O)COC(=O)Cc1ccccc1Nc1c(Cl)cccc1Cl -4.410000\n",
              "2      Diclofenac                     O=C(O)Cc1ccccc1Nc1c(Cl)cccc1Cl -4.460681\n",
              "3  amfenac sodium         Nc1c(CC(=O)[O-])cccc1C(=O)c1ccccc1.O.[Na+] -4.520000\n",
              "4         Amfenac                    Nc1c(CC(=O)O)cccc1C(=O)c1ccccc1 -4.520000"
            ],
            "text/html": [
              "\n",
              "  <div id=\"df-de00858a-b592-4659-b2e4-d2802d96f7ba\">\n",
              "    <div class=\"colab-df-container\">\n",
              "      <div>\n",
              "<style scoped>\n",
              "    .dataframe tbody tr th:only-of-type {\n",
              "        vertical-align: middle;\n",
              "    }\n",
              "\n",
              "    .dataframe tbody tr th {\n",
              "        vertical-align: top;\n",
              "    }\n",
              "\n",
              "    .dataframe thead th {\n",
              "        text-align: right;\n",
              "    }\n",
              "</style>\n",
              "<table border=\"1\" class=\"dataframe\">\n",
              "  <thead>\n",
              "    <tr style=\"text-align: right;\">\n",
              "      <th></th>\n",
              "      <th>Drug_ID</th>\n",
              "      <th>Drug</th>\n",
              "      <th>Y</th>\n",
              "    </tr>\n",
              "  </thead>\n",
              "  <tbody>\n",
              "    <tr>\n",
              "      <th>0</th>\n",
              "      <td>I-II</td>\n",
              "      <td>O=C(O)C[C@@H](c1cnc2ccccc2c1)N1CC[C@@H](CCCc2c...</td>\n",
              "      <td>-5.690000</td>\n",
              "    </tr>\n",
              "    <tr>\n",
              "      <th>1</th>\n",
              "      <td>aceclofenac</td>\n",
              "      <td>O=C(O)COC(=O)Cc1ccccc1Nc1c(Cl)cccc1Cl</td>\n",
              "      <td>-4.410000</td>\n",
              "    </tr>\n",
              "    <tr>\n",
              "      <th>2</th>\n",
              "      <td>Diclofenac</td>\n",
              "      <td>O=C(O)Cc1ccccc1Nc1c(Cl)cccc1Cl</td>\n",
              "      <td>-4.460681</td>\n",
              "    </tr>\n",
              "    <tr>\n",
              "      <th>3</th>\n",
              "      <td>amfenac sodium</td>\n",
              "      <td>Nc1c(CC(=O)[O-])cccc1C(=O)c1ccccc1.O.[Na+]</td>\n",
              "      <td>-4.520000</td>\n",
              "    </tr>\n",
              "    <tr>\n",
              "      <th>4</th>\n",
              "      <td>Amfenac</td>\n",
              "      <td>Nc1c(CC(=O)O)cccc1C(=O)c1ccccc1</td>\n",
              "      <td>-4.520000</td>\n",
              "    </tr>\n",
              "  </tbody>\n",
              "</table>\n",
              "</div>\n",
              "      <button class=\"colab-df-convert\" onclick=\"convertToInteractive('df-de00858a-b592-4659-b2e4-d2802d96f7ba')\"\n",
              "              title=\"Convert this dataframe to an interactive table.\"\n",
              "              style=\"display:none;\">\n",
              "        \n",
              "  <svg xmlns=\"http://www.w3.org/2000/svg\" height=\"24px\"viewBox=\"0 0 24 24\"\n",
              "       width=\"24px\">\n",
              "    <path d=\"M0 0h24v24H0V0z\" fill=\"none\"/>\n",
              "    <path d=\"M18.56 5.44l.94 2.06.94-2.06 2.06-.94-2.06-.94-.94-2.06-.94 2.06-2.06.94zm-11 1L8.5 8.5l.94-2.06 2.06-.94-2.06-.94L8.5 2.5l-.94 2.06-2.06.94zm10 10l.94 2.06.94-2.06 2.06-.94-2.06-.94-.94-2.06-.94 2.06-2.06.94z\"/><path d=\"M17.41 7.96l-1.37-1.37c-.4-.4-.92-.59-1.43-.59-.52 0-1.04.2-1.43.59L10.3 9.45l-7.72 7.72c-.78.78-.78 2.05 0 2.83L4 21.41c.39.39.9.59 1.41.59.51 0 1.02-.2 1.41-.59l7.78-7.78 2.81-2.81c.8-.78.8-2.07 0-2.86zM5.41 20L4 18.59l7.72-7.72 1.47 1.35L5.41 20z\"/>\n",
              "  </svg>\n",
              "      </button>\n",
              "      \n",
              "  <style>\n",
              "    .colab-df-container {\n",
              "      display:flex;\n",
              "      flex-wrap:wrap;\n",
              "      gap: 12px;\n",
              "    }\n",
              "\n",
              "    .colab-df-convert {\n",
              "      background-color: #E8F0FE;\n",
              "      border: none;\n",
              "      border-radius: 50%;\n",
              "      cursor: pointer;\n",
              "      display: none;\n",
              "      fill: #1967D2;\n",
              "      height: 32px;\n",
              "      padding: 0 0 0 0;\n",
              "      width: 32px;\n",
              "    }\n",
              "\n",
              "    .colab-df-convert:hover {\n",
              "      background-color: #E2EBFA;\n",
              "      box-shadow: 0px 1px 2px rgba(60, 64, 67, 0.3), 0px 1px 3px 1px rgba(60, 64, 67, 0.15);\n",
              "      fill: #174EA6;\n",
              "    }\n",
              "\n",
              "    [theme=dark] .colab-df-convert {\n",
              "      background-color: #3B4455;\n",
              "      fill: #D2E3FC;\n",
              "    }\n",
              "\n",
              "    [theme=dark] .colab-df-convert:hover {\n",
              "      background-color: #434B5C;\n",
              "      box-shadow: 0px 1px 3px 1px rgba(0, 0, 0, 0.15);\n",
              "      filter: drop-shadow(0px 1px 2px rgba(0, 0, 0, 0.3));\n",
              "      fill: #FFFFFF;\n",
              "    }\n",
              "  </style>\n",
              "\n",
              "      <script>\n",
              "        const buttonEl =\n",
              "          document.querySelector('#df-de00858a-b592-4659-b2e4-d2802d96f7ba button.colab-df-convert');\n",
              "        buttonEl.style.display =\n",
              "          google.colab.kernel.accessAllowed ? 'block' : 'none';\n",
              "\n",
              "        async function convertToInteractive(key) {\n",
              "          const element = document.querySelector('#df-de00858a-b592-4659-b2e4-d2802d96f7ba');\n",
              "          const dataTable =\n",
              "            await google.colab.kernel.invokeFunction('convertToInteractive',\n",
              "                                                     [key], {});\n",
              "          if (!dataTable) return;\n",
              "\n",
              "          const docLinkHtml = 'Like what you see? Visit the ' +\n",
              "            '<a target=\"_blank\" href=https://colab.research.google.com/notebooks/data_table.ipynb>data table notebook</a>'\n",
              "            + ' to learn more about interactive tables.';\n",
              "          element.innerHTML = '';\n",
              "          dataTable['output_type'] = 'display_data';\n",
              "          await google.colab.output.renderOutput(dataTable, element);\n",
              "          const docLink = document.createElement('div');\n",
              "          docLink.innerHTML = docLinkHtml;\n",
              "          element.appendChild(docLink);\n",
              "        }\n",
              "      </script>\n",
              "    </div>\n",
              "  </div>\n",
              "  "
            ]
          },
          "metadata": {},
          "execution_count": 11
        }
      ]
    },
    {
      "cell_type": "code",
      "source": [
        "print(valid.shape)\n",
        "valid.head(5)"
      ],
      "metadata": {
        "colab": {
          "base_uri": "https://localhost:8080/",
          "height": 223
        },
        "id": "pQFcx4slzbcP",
        "outputId": "929ceff5-fde8-47fb-d250-20f4dc54b386"
      },
      "execution_count": 12,
      "outputs": [
        {
          "output_type": "stream",
          "name": "stdout",
          "text": [
            "(91, 3)\n"
          ]
        },
        {
          "output_type": "execute_result",
          "data": {
            "text/plain": [
              "                                             Drug_ID  \\\n",
              "0                                        scopolamine   \n",
              "1                                        Scopolamine   \n",
              "2  Dimethyl-4',4'-dimethoxy-5,6,5',6'-dimethylene...   \n",
              "3                                           Bicyclol   \n",
              "4                                        vinblastine   \n",
              "\n",
              "                                                Drug         Y  \n",
              "0  CN1[C@H]2CC(OC(=O)[C@H](CO)c3ccccc3)C[C@@H]1[C... -4.928000  \n",
              "1              CN1C2CC(OC(=O)C(CO)c3ccccc3)CC1C1OC12 -4.724059  \n",
              "2  COC(=O)c1cc(OC)c2c(c1-c1c(C(=O)OC)cc(OC)c3c1OC... -4.168745  \n",
              "3   COC(=O)c1cc(OC)c2c(c1-c1c(CO)cc(OC)c3c1OCO3)OCO2 -4.797940  \n",
              "4  CC[C@]1(O)C[C@@H]2CN(CCc3c([nH]c4ccccc34)[C@@]... -5.480000  "
            ],
            "text/html": [
              "\n",
              "  <div id=\"df-f873bedf-e8fb-4f08-a9ff-d97840d41e7a\">\n",
              "    <div class=\"colab-df-container\">\n",
              "      <div>\n",
              "<style scoped>\n",
              "    .dataframe tbody tr th:only-of-type {\n",
              "        vertical-align: middle;\n",
              "    }\n",
              "\n",
              "    .dataframe tbody tr th {\n",
              "        vertical-align: top;\n",
              "    }\n",
              "\n",
              "    .dataframe thead th {\n",
              "        text-align: right;\n",
              "    }\n",
              "</style>\n",
              "<table border=\"1\" class=\"dataframe\">\n",
              "  <thead>\n",
              "    <tr style=\"text-align: right;\">\n",
              "      <th></th>\n",
              "      <th>Drug_ID</th>\n",
              "      <th>Drug</th>\n",
              "      <th>Y</th>\n",
              "    </tr>\n",
              "  </thead>\n",
              "  <tbody>\n",
              "    <tr>\n",
              "      <th>0</th>\n",
              "      <td>scopolamine</td>\n",
              "      <td>CN1[C@H]2CC(OC(=O)[C@H](CO)c3ccccc3)C[C@@H]1[C...</td>\n",
              "      <td>-4.928000</td>\n",
              "    </tr>\n",
              "    <tr>\n",
              "      <th>1</th>\n",
              "      <td>Scopolamine</td>\n",
              "      <td>CN1C2CC(OC(=O)C(CO)c3ccccc3)CC1C1OC12</td>\n",
              "      <td>-4.724059</td>\n",
              "    </tr>\n",
              "    <tr>\n",
              "      <th>2</th>\n",
              "      <td>Dimethyl-4',4'-dimethoxy-5,6,5',6'-dimethylene...</td>\n",
              "      <td>COC(=O)c1cc(OC)c2c(c1-c1c(C(=O)OC)cc(OC)c3c1OC...</td>\n",
              "      <td>-4.168745</td>\n",
              "    </tr>\n",
              "    <tr>\n",
              "      <th>3</th>\n",
              "      <td>Bicyclol</td>\n",
              "      <td>COC(=O)c1cc(OC)c2c(c1-c1c(CO)cc(OC)c3c1OCO3)OCO2</td>\n",
              "      <td>-4.797940</td>\n",
              "    </tr>\n",
              "    <tr>\n",
              "      <th>4</th>\n",
              "      <td>vinblastine</td>\n",
              "      <td>CC[C@]1(O)C[C@@H]2CN(CCc3c([nH]c4ccccc34)[C@@]...</td>\n",
              "      <td>-5.480000</td>\n",
              "    </tr>\n",
              "  </tbody>\n",
              "</table>\n",
              "</div>\n",
              "      <button class=\"colab-df-convert\" onclick=\"convertToInteractive('df-f873bedf-e8fb-4f08-a9ff-d97840d41e7a')\"\n",
              "              title=\"Convert this dataframe to an interactive table.\"\n",
              "              style=\"display:none;\">\n",
              "        \n",
              "  <svg xmlns=\"http://www.w3.org/2000/svg\" height=\"24px\"viewBox=\"0 0 24 24\"\n",
              "       width=\"24px\">\n",
              "    <path d=\"M0 0h24v24H0V0z\" fill=\"none\"/>\n",
              "    <path d=\"M18.56 5.44l.94 2.06.94-2.06 2.06-.94-2.06-.94-.94-2.06-.94 2.06-2.06.94zm-11 1L8.5 8.5l.94-2.06 2.06-.94-2.06-.94L8.5 2.5l-.94 2.06-2.06.94zm10 10l.94 2.06.94-2.06 2.06-.94-2.06-.94-.94-2.06-.94 2.06-2.06.94z\"/><path d=\"M17.41 7.96l-1.37-1.37c-.4-.4-.92-.59-1.43-.59-.52 0-1.04.2-1.43.59L10.3 9.45l-7.72 7.72c-.78.78-.78 2.05 0 2.83L4 21.41c.39.39.9.59 1.41.59.51 0 1.02-.2 1.41-.59l7.78-7.78 2.81-2.81c.8-.78.8-2.07 0-2.86zM5.41 20L4 18.59l7.72-7.72 1.47 1.35L5.41 20z\"/>\n",
              "  </svg>\n",
              "      </button>\n",
              "      \n",
              "  <style>\n",
              "    .colab-df-container {\n",
              "      display:flex;\n",
              "      flex-wrap:wrap;\n",
              "      gap: 12px;\n",
              "    }\n",
              "\n",
              "    .colab-df-convert {\n",
              "      background-color: #E8F0FE;\n",
              "      border: none;\n",
              "      border-radius: 50%;\n",
              "      cursor: pointer;\n",
              "      display: none;\n",
              "      fill: #1967D2;\n",
              "      height: 32px;\n",
              "      padding: 0 0 0 0;\n",
              "      width: 32px;\n",
              "    }\n",
              "\n",
              "    .colab-df-convert:hover {\n",
              "      background-color: #E2EBFA;\n",
              "      box-shadow: 0px 1px 2px rgba(60, 64, 67, 0.3), 0px 1px 3px 1px rgba(60, 64, 67, 0.15);\n",
              "      fill: #174EA6;\n",
              "    }\n",
              "\n",
              "    [theme=dark] .colab-df-convert {\n",
              "      background-color: #3B4455;\n",
              "      fill: #D2E3FC;\n",
              "    }\n",
              "\n",
              "    [theme=dark] .colab-df-convert:hover {\n",
              "      background-color: #434B5C;\n",
              "      box-shadow: 0px 1px 3px 1px rgba(0, 0, 0, 0.15);\n",
              "      filter: drop-shadow(0px 1px 2px rgba(0, 0, 0, 0.3));\n",
              "      fill: #FFFFFF;\n",
              "    }\n",
              "  </style>\n",
              "\n",
              "      <script>\n",
              "        const buttonEl =\n",
              "          document.querySelector('#df-f873bedf-e8fb-4f08-a9ff-d97840d41e7a button.colab-df-convert');\n",
              "        buttonEl.style.display =\n",
              "          google.colab.kernel.accessAllowed ? 'block' : 'none';\n",
              "\n",
              "        async function convertToInteractive(key) {\n",
              "          const element = document.querySelector('#df-f873bedf-e8fb-4f08-a9ff-d97840d41e7a');\n",
              "          const dataTable =\n",
              "            await google.colab.kernel.invokeFunction('convertToInteractive',\n",
              "                                                     [key], {});\n",
              "          if (!dataTable) return;\n",
              "\n",
              "          const docLinkHtml = 'Like what you see? Visit the ' +\n",
              "            '<a target=\"_blank\" href=https://colab.research.google.com/notebooks/data_table.ipynb>data table notebook</a>'\n",
              "            + ' to learn more about interactive tables.';\n",
              "          element.innerHTML = '';\n",
              "          dataTable['output_type'] = 'display_data';\n",
              "          await google.colab.output.renderOutput(dataTable, element);\n",
              "          const docLink = document.createElement('div');\n",
              "          docLink.innerHTML = docLinkHtml;\n",
              "          element.appendChild(docLink);\n",
              "        }\n",
              "      </script>\n",
              "    </div>\n",
              "  </div>\n",
              "  "
            ]
          },
          "metadata": {},
          "execution_count": 12
        }
      ]
    },
    {
      "cell_type": "markdown",
      "source": [
        "Feature extract"
      ],
      "metadata": {
        "id": "ivL8aMW8zrM6"
      }
    },
    {
      "cell_type": "code",
      "source": [
        "from rdkit import Chem\n",
        "from rdkit.Chem import Descriptors, Lipinski"
      ],
      "metadata": {
        "id": "E2IaZrG6h2mK"
      },
      "execution_count": 13,
      "outputs": []
    },
    {
      "cell_type": "code",
      "source": [
        "def molecular_descriptors(table):\n",
        "\n",
        "  descriptors = pd.DataFrame()\n",
        "\n",
        "  mol = [Chem.MolFromSmiles(drug) for drug in table.Drug]\n",
        "\n",
        "  # Exact molecular weight of the molecule\n",
        "  tdc = []\n",
        "  tdc.append([Descriptors.ExactMolWt(i) for i in mol])\n",
        "  descriptors['Exact_MW'] = tdc[0]\n",
        "\n",
        "  # FpDensityMorgan1\n",
        "  tdc = []\n",
        "  tdc.append([Descriptors.FpDensityMorgan1(i) for i in mol])\n",
        "  descriptors['FpDensityMorgan1'] = tdc[0]\n",
        "\n",
        "  # FpDensityMorgan2\n",
        "  tdc = []\n",
        "  tdc.append([Descriptors.FpDensityMorgan2(i) for i in mol])\n",
        "  descriptors['FpDensityMorgan2'] = tdc[0]\n",
        "\n",
        "  # FpDensityMorgan3\n",
        "  tdc = []\n",
        "  tdc.append([Descriptors.FpDensityMorgan3(i) for i in mol])\n",
        "  descriptors['FpDensityMorgan3'] = tdc[0]\n",
        "\n",
        "  # Average molecular weight of the molecule ignoring hydrogens\n",
        "  tdc = []\n",
        "  tdc.append([Descriptors.HeavyAtomMolWt(i) for i in mol])\n",
        "  descriptors['HeavyAtomMolWt'] = tdc[0]\n",
        "\n",
        "  # MaxAbsPartialCharge\n",
        "  tdc = []\n",
        "  tdc.append([Descriptors.MaxAbsPartialCharge(i) for i in mol])\n",
        "  descriptors['MaxAbsPartialCharge'] = tdc[0]\n",
        "\n",
        "  # MaxPartialCharge\n",
        "  tdc = []\n",
        "  tdc.append([Descriptors.MaxPartialCharge(i) for i in mol])\n",
        "  descriptors['MaxPartialCharge'] = tdc[0]\n",
        "\n",
        "  # MinAbsPartialCharge\n",
        "  tdc = []\n",
        "  tdc.append([Descriptors.MinAbsPartialCharge(i) for i in mol])\n",
        "  descriptors['MinAbsPartialCharge'] = tdc[0]\n",
        "\n",
        "  # MinPartialCharge\n",
        "  tdc = []\n",
        "  tdc.append([Descriptors.MinPartialCharge(i) for i in mol])\n",
        "  descriptors['MinPartialCharge'] = tdc[0]\n",
        "\n",
        "  # Average molecular weight of the molecule\n",
        "  tdc = []\n",
        "  tdc.append([Descriptors.MolWt(i) for i in mol])\n",
        "  descriptors['MolWt'] = tdc[0]\n",
        "\n",
        "  # Number of radical electrons of the molecule\n",
        "  tdc = []\n",
        "  tdc.append([Descriptors.NumRadicalElectrons(i) for i in mol])\n",
        "  descriptors['NumRadicalElectrons'] = tdc[0]\n",
        "\n",
        "  # Number of valence electrons of the molecule\n",
        "  tdc = []\n",
        "  tdc.append([Descriptors.NumValenceElectrons(i) for i in mol])\n",
        "  descriptors['NumValenceElectrons'] = tdc[0]\n",
        "\n",
        "  # Log of partition coefficient\n",
        "  tdc = []\n",
        "  tdc.append([Descriptors.MolLogP(i) for i in mol])\n",
        "  descriptors['Partition_Coefficient'] = tdc[0]\n",
        " ### Lipinski Descriptors ###\n",
        "  # Fraction of C atoms that are SP3 hybridized\n",
        "  tdc = []\n",
        "  tdc.append([Lipinski.FractionCSP3(i) for i in mol])\n",
        "  descriptors['FractionCSP3'] = tdc[0]\n",
        "\n",
        " # Number of heavy atoms a molecule\n",
        "  tdc = []\n",
        "  tdc.append([Lipinski.HeavyAtomCount(i) for i in mol])\n",
        "  descriptors['Heavy_atoms'] = tdc[0]\n",
        "\n",
        "  # Number of NHs or OHs\n",
        "  tdc = []\n",
        "  tdc.append([Lipinski.NHOHCount(i) for i in mol])\n",
        "  descriptors['NHs/OHs'] = tdc[0]\n",
        "\n",
        "  # Number of Nitrogens and Oxygens\n",
        "  tdc = []\n",
        "  tdc.append([Lipinski.NOCount(i) for i in mol])\n",
        "  descriptors['N&O'] = tdc[0]\n",
        "\n",
        "  # Number of aliphatic (containing at least one non-aromatic bond) carbocycles for a molecule\n",
        "  tdc = []\n",
        "  tdc.append([Lipinski.NumAliphaticCarbocycles(i) for i in mol])\n",
        "  descriptors['Aliphatic_carbocycles'] = tdc[0]\n",
        "\n",
        "  # Number of aliphatic (containing at least one non-aromatic bond) heterocycles for a molecule\n",
        "  tdc = []\n",
        "  tdc.append([Lipinski.NumAliphaticHeterocycles(i) for i in mol])\n",
        "  descriptors['Aliphatic_heterocycles'] = tdc[0]\n",
        "\n",
        "  # Number of aliphatic (containing at least one non-aromatic bond) rings for a molecule\n",
        "  tdc = []\n",
        "  tdc.append([Lipinski.NumAliphaticRings(i) for i in mol])\n",
        "  descriptors['Aliphatic_rings'] = tdc[0]\n",
        "\n",
        "  # Nmber of aromatic carbocycles for a molecule\n",
        "  tdc = []\n",
        "  tdc.append([Lipinski.NumAromaticCarbocycles(i) for i in mol])\n",
        "  descriptors['Aromatic_carbocycles'] = tdc[0]\n",
        "\n",
        "  # Number of aromatic heterocycles for a molecule\n",
        "  tdc = []\n",
        "  tdc.append([Lipinski.NumAromaticHeterocycles(i) for i in mol])\n",
        "  descriptors['Aromatic_heterocycles'] = tdc[0]\n",
        "\n",
        "  # Number of aromatic rings for a molecule\n",
        "  tdc = []\n",
        "  tdc.append([Lipinski.NumAromaticRings(i) for i in mol])\n",
        "  descriptors['Aromatic_rings'] = tdc[0]\n",
        "\n",
        "  # Number of Hydrogen Bond Acceptors\n",
        "  tdc = []\n",
        "  tdc.append([Lipinski.NumHAcceptors(i) for i in mol])\n",
        "  descriptors['HAcceptors'] = tdc[0]\n",
        "\n",
        "  # Number of Hydrogen Bond Donors\n",
        "  tdc = []\n",
        "  tdc.append([Lipinski.NumHDonors(i) for i in mol])\n",
        "  descriptors['HDonors'] = tdc[0]\n",
        "\n",
        "  # Number of Heteroatoms\n",
        "  tdc = []\n",
        "  tdc.append([Lipinski.NumHeteroatoms(i) for i in mol])\n",
        "  descriptors['Heteroatoms'] = tdc[0]\n",
        "\n",
        "  # Number of Rotatable Bonds\n",
        "  tdc = []\n",
        "  tdc.append([Lipinski.NumRotatableBonds(i) for i in mol])\n",
        "  descriptors['Rotatable_Bonds'] = tdc[0]\n",
        "\n",
        "  # Number of saturated carbocycles for a molecule\n",
        "  tdc = []\n",
        "  tdc.append([Lipinski.NumSaturatedCarbocycles(i) for i in mol])\n",
        "  descriptors['Saturated_Carbocycles'] = tdc[0]\n",
        "\n",
        "  # Number of saturated heterocycles for a molecule\n",
        "  tdc = []\n",
        "  tdc.append([Lipinski.NumSaturatedHeterocycles(i) for i in mol])\n",
        "  descriptors['Saturated_Heterocycles'] = tdc[0]\n",
        "\n",
        "  # Number of saturated rings for a molecule\n",
        "  tdc = []\n",
        "  tdc.append([Lipinski.NumSaturatedRings(i) for i in mol])\n",
        "  descriptors['Saturated_Rings'] = tdc[0]\n",
        "\n",
        "  # Number of rings for a molecule\n",
        "  tdc = []\n",
        "  tdc.append([Lipinski.RingCount(i) for i in mol])\n",
        "  descriptors['Rings'] = tdc[0]\n",
        "\n",
        "  return descriptors"
      ],
      "metadata": {
        "id": "F_tw-MFmiSnQ"
      },
      "execution_count": 14,
      "outputs": []
    },
    {
      "cell_type": "code",
      "source": [
        "train_x = molecular_descriptors(train)\n",
        "valid_x=molecular_descriptors(valid)\n",
        "test_x = molecular_descriptors(test)"
      ],
      "metadata": {
        "id": "tBtTkGzQiScL"
      },
      "execution_count": 15,
      "outputs": []
    },
    {
      "cell_type": "code",
      "source": [
        "train_x.shape"
      ],
      "metadata": {
        "colab": {
          "base_uri": "https://localhost:8080/"
        },
        "id": "Q0xWbaEvjfiM",
        "outputId": "14b4f1c6-c14d-438b-e91d-c5fc9b423256"
      },
      "execution_count": 16,
      "outputs": [
        {
          "output_type": "execute_result",
          "data": {
            "text/plain": [
              "(637, 31)"
            ]
          },
          "metadata": {},
          "execution_count": 16
        }
      ]
    },
    {
      "cell_type": "code",
      "source": [
        "train_x. head(5)"
      ],
      "metadata": {
        "colab": {
          "base_uri": "https://localhost:8080/",
          "height": 299
        },
        "id": "-oNRm0ZhjTF-",
        "outputId": "404e38a9-e541-4827-f438-b0d4ab61c851"
      },
      "execution_count": 17,
      "outputs": [
        {
          "output_type": "execute_result",
          "data": {
            "text/plain": [
              "     Exact_MW  FpDensityMorgan1  FpDensityMorgan2  FpDensityMorgan3  \\\n",
              "0  616.308327          0.931818          1.636364          2.363636   \n",
              "1  315.000724          1.210526          2.105263          2.894737   \n",
              "2  356.162374          0.961538          1.576923          2.115385   \n",
              "3  378.076217          1.153846          1.923077          2.653846   \n",
              "4  394.071131          1.185185          1.962963          2.703704   \n",
              "\n",
              "   HeavyAtomMolWt  MaxAbsPartialCharge  MaxPartialCharge  MinAbsPartialCharge  \\\n",
              "0         572.476             0.381429          0.261749             0.261749   \n",
              "1         306.078             0.323840          0.245571             0.245571   \n",
              "2         332.226             0.501699          0.200256             0.200256   \n",
              "3         365.275             0.415986          0.415986             0.378322   \n",
              "4         381.274             0.572598          0.572598             0.405718   \n",
              "\n",
              "   MinPartialCharge    MolWt  ...  Aromatic_heterocycles  Aromatic_rings  \\\n",
              "0         -0.381429  616.828  ...                      1               3   \n",
              "1         -0.323840  316.158  ...                      1               2   \n",
              "2         -0.501699  356.418  ...                      0               2   \n",
              "3         -0.378322  378.379  ...                      2               3   \n",
              "4         -0.405718  394.378  ...                      2               3   \n",
              "\n",
              "   HAcceptors  HDonors  Heteroatoms  Rotatable_Bonds  Saturated_Carbocycles  \\\n",
              "0           6        3            9               10                      1   \n",
              "1           3        1            5                1                      0   \n",
              "2           5        1            5                5                      0   \n",
              "3           5        2            9                5                      0   \n",
              "4           6        2           10                6                      0   \n",
              "\n",
              "   Saturated_Heterocycles  Saturated_Rings  Rings  \n",
              "0                       2                3      6  \n",
              "1                       0                0      3  \n",
              "2                       0                0      3  \n",
              "3                       0                0      3  \n",
              "4                       0                0      3  \n",
              "\n",
              "[5 rows x 31 columns]"
            ],
            "text/html": [
              "\n",
              "  <div id=\"df-7b052f04-ccae-41fd-939a-4c6a7346b048\">\n",
              "    <div class=\"colab-df-container\">\n",
              "      <div>\n",
              "<style scoped>\n",
              "    .dataframe tbody tr th:only-of-type {\n",
              "        vertical-align: middle;\n",
              "    }\n",
              "\n",
              "    .dataframe tbody tr th {\n",
              "        vertical-align: top;\n",
              "    }\n",
              "\n",
              "    .dataframe thead th {\n",
              "        text-align: right;\n",
              "    }\n",
              "</style>\n",
              "<table border=\"1\" class=\"dataframe\">\n",
              "  <thead>\n",
              "    <tr style=\"text-align: right;\">\n",
              "      <th></th>\n",
              "      <th>Exact_MW</th>\n",
              "      <th>FpDensityMorgan1</th>\n",
              "      <th>FpDensityMorgan2</th>\n",
              "      <th>FpDensityMorgan3</th>\n",
              "      <th>HeavyAtomMolWt</th>\n",
              "      <th>MaxAbsPartialCharge</th>\n",
              "      <th>MaxPartialCharge</th>\n",
              "      <th>MinAbsPartialCharge</th>\n",
              "      <th>MinPartialCharge</th>\n",
              "      <th>MolWt</th>\n",
              "      <th>...</th>\n",
              "      <th>Aromatic_heterocycles</th>\n",
              "      <th>Aromatic_rings</th>\n",
              "      <th>HAcceptors</th>\n",
              "      <th>HDonors</th>\n",
              "      <th>Heteroatoms</th>\n",
              "      <th>Rotatable_Bonds</th>\n",
              "      <th>Saturated_Carbocycles</th>\n",
              "      <th>Saturated_Heterocycles</th>\n",
              "      <th>Saturated_Rings</th>\n",
              "      <th>Rings</th>\n",
              "    </tr>\n",
              "  </thead>\n",
              "  <tbody>\n",
              "    <tr>\n",
              "      <th>0</th>\n",
              "      <td>616.308327</td>\n",
              "      <td>0.931818</td>\n",
              "      <td>1.636364</td>\n",
              "      <td>2.363636</td>\n",
              "      <td>572.476</td>\n",
              "      <td>0.381429</td>\n",
              "      <td>0.261749</td>\n",
              "      <td>0.261749</td>\n",
              "      <td>-0.381429</td>\n",
              "      <td>616.828</td>\n",
              "      <td>...</td>\n",
              "      <td>1</td>\n",
              "      <td>3</td>\n",
              "      <td>6</td>\n",
              "      <td>3</td>\n",
              "      <td>9</td>\n",
              "      <td>10</td>\n",
              "      <td>1</td>\n",
              "      <td>2</td>\n",
              "      <td>3</td>\n",
              "      <td>6</td>\n",
              "    </tr>\n",
              "    <tr>\n",
              "      <th>1</th>\n",
              "      <td>315.000724</td>\n",
              "      <td>1.210526</td>\n",
              "      <td>2.105263</td>\n",
              "      <td>2.894737</td>\n",
              "      <td>306.078</td>\n",
              "      <td>0.323840</td>\n",
              "      <td>0.245571</td>\n",
              "      <td>0.245571</td>\n",
              "      <td>-0.323840</td>\n",
              "      <td>316.158</td>\n",
              "      <td>...</td>\n",
              "      <td>1</td>\n",
              "      <td>2</td>\n",
              "      <td>3</td>\n",
              "      <td>1</td>\n",
              "      <td>5</td>\n",
              "      <td>1</td>\n",
              "      <td>0</td>\n",
              "      <td>0</td>\n",
              "      <td>0</td>\n",
              "      <td>3</td>\n",
              "    </tr>\n",
              "    <tr>\n",
              "      <th>2</th>\n",
              "      <td>356.162374</td>\n",
              "      <td>0.961538</td>\n",
              "      <td>1.576923</td>\n",
              "      <td>2.115385</td>\n",
              "      <td>332.226</td>\n",
              "      <td>0.501699</td>\n",
              "      <td>0.200256</td>\n",
              "      <td>0.200256</td>\n",
              "      <td>-0.501699</td>\n",
              "      <td>356.418</td>\n",
              "      <td>...</td>\n",
              "      <td>0</td>\n",
              "      <td>2</td>\n",
              "      <td>5</td>\n",
              "      <td>1</td>\n",
              "      <td>5</td>\n",
              "      <td>5</td>\n",
              "      <td>0</td>\n",
              "      <td>0</td>\n",
              "      <td>0</td>\n",
              "      <td>3</td>\n",
              "    </tr>\n",
              "    <tr>\n",
              "      <th>3</th>\n",
              "      <td>378.076217</td>\n",
              "      <td>1.153846</td>\n",
              "      <td>1.923077</td>\n",
              "      <td>2.653846</td>\n",
              "      <td>365.275</td>\n",
              "      <td>0.415986</td>\n",
              "      <td>0.415986</td>\n",
              "      <td>0.378322</td>\n",
              "      <td>-0.378322</td>\n",
              "      <td>378.379</td>\n",
              "      <td>...</td>\n",
              "      <td>2</td>\n",
              "      <td>3</td>\n",
              "      <td>5</td>\n",
              "      <td>2</td>\n",
              "      <td>9</td>\n",
              "      <td>5</td>\n",
              "      <td>0</td>\n",
              "      <td>0</td>\n",
              "      <td>0</td>\n",
              "      <td>3</td>\n",
              "    </tr>\n",
              "    <tr>\n",
              "      <th>4</th>\n",
              "      <td>394.071131</td>\n",
              "      <td>1.185185</td>\n",
              "      <td>1.962963</td>\n",
              "      <td>2.703704</td>\n",
              "      <td>381.274</td>\n",
              "      <td>0.572598</td>\n",
              "      <td>0.572598</td>\n",
              "      <td>0.405718</td>\n",
              "      <td>-0.405718</td>\n",
              "      <td>394.378</td>\n",
              "      <td>...</td>\n",
              "      <td>2</td>\n",
              "      <td>3</td>\n",
              "      <td>6</td>\n",
              "      <td>2</td>\n",
              "      <td>10</td>\n",
              "      <td>6</td>\n",
              "      <td>0</td>\n",
              "      <td>0</td>\n",
              "      <td>0</td>\n",
              "      <td>3</td>\n",
              "    </tr>\n",
              "  </tbody>\n",
              "</table>\n",
              "<p>5 rows × 31 columns</p>\n",
              "</div>\n",
              "      <button class=\"colab-df-convert\" onclick=\"convertToInteractive('df-7b052f04-ccae-41fd-939a-4c6a7346b048')\"\n",
              "              title=\"Convert this dataframe to an interactive table.\"\n",
              "              style=\"display:none;\">\n",
              "        \n",
              "  <svg xmlns=\"http://www.w3.org/2000/svg\" height=\"24px\"viewBox=\"0 0 24 24\"\n",
              "       width=\"24px\">\n",
              "    <path d=\"M0 0h24v24H0V0z\" fill=\"none\"/>\n",
              "    <path d=\"M18.56 5.44l.94 2.06.94-2.06 2.06-.94-2.06-.94-.94-2.06-.94 2.06-2.06.94zm-11 1L8.5 8.5l.94-2.06 2.06-.94-2.06-.94L8.5 2.5l-.94 2.06-2.06.94zm10 10l.94 2.06.94-2.06 2.06-.94-2.06-.94-.94-2.06-.94 2.06-2.06.94z\"/><path d=\"M17.41 7.96l-1.37-1.37c-.4-.4-.92-.59-1.43-.59-.52 0-1.04.2-1.43.59L10.3 9.45l-7.72 7.72c-.78.78-.78 2.05 0 2.83L4 21.41c.39.39.9.59 1.41.59.51 0 1.02-.2 1.41-.59l7.78-7.78 2.81-2.81c.8-.78.8-2.07 0-2.86zM5.41 20L4 18.59l7.72-7.72 1.47 1.35L5.41 20z\"/>\n",
              "  </svg>\n",
              "      </button>\n",
              "      \n",
              "  <style>\n",
              "    .colab-df-container {\n",
              "      display:flex;\n",
              "      flex-wrap:wrap;\n",
              "      gap: 12px;\n",
              "    }\n",
              "\n",
              "    .colab-df-convert {\n",
              "      background-color: #E8F0FE;\n",
              "      border: none;\n",
              "      border-radius: 50%;\n",
              "      cursor: pointer;\n",
              "      display: none;\n",
              "      fill: #1967D2;\n",
              "      height: 32px;\n",
              "      padding: 0 0 0 0;\n",
              "      width: 32px;\n",
              "    }\n",
              "\n",
              "    .colab-df-convert:hover {\n",
              "      background-color: #E2EBFA;\n",
              "      box-shadow: 0px 1px 2px rgba(60, 64, 67, 0.3), 0px 1px 3px 1px rgba(60, 64, 67, 0.15);\n",
              "      fill: #174EA6;\n",
              "    }\n",
              "\n",
              "    [theme=dark] .colab-df-convert {\n",
              "      background-color: #3B4455;\n",
              "      fill: #D2E3FC;\n",
              "    }\n",
              "\n",
              "    [theme=dark] .colab-df-convert:hover {\n",
              "      background-color: #434B5C;\n",
              "      box-shadow: 0px 1px 3px 1px rgba(0, 0, 0, 0.15);\n",
              "      filter: drop-shadow(0px 1px 2px rgba(0, 0, 0, 0.3));\n",
              "      fill: #FFFFFF;\n",
              "    }\n",
              "  </style>\n",
              "\n",
              "      <script>\n",
              "        const buttonEl =\n",
              "          document.querySelector('#df-7b052f04-ccae-41fd-939a-4c6a7346b048 button.colab-df-convert');\n",
              "        buttonEl.style.display =\n",
              "          google.colab.kernel.accessAllowed ? 'block' : 'none';\n",
              "\n",
              "        async function convertToInteractive(key) {\n",
              "          const element = document.querySelector('#df-7b052f04-ccae-41fd-939a-4c6a7346b048');\n",
              "          const dataTable =\n",
              "            await google.colab.kernel.invokeFunction('convertToInteractive',\n",
              "                                                     [key], {});\n",
              "          if (!dataTable) return;\n",
              "\n",
              "          const docLinkHtml = 'Like what you see? Visit the ' +\n",
              "            '<a target=\"_blank\" href=https://colab.research.google.com/notebooks/data_table.ipynb>data table notebook</a>'\n",
              "            + ' to learn more about interactive tables.';\n",
              "          element.innerHTML = '';\n",
              "          dataTable['output_type'] = 'display_data';\n",
              "          await google.colab.output.renderOutput(dataTable, element);\n",
              "          const docLink = document.createElement('div');\n",
              "          docLink.innerHTML = docLinkHtml;\n",
              "          element.appendChild(docLink);\n",
              "        }\n",
              "      </script>\n",
              "    </div>\n",
              "  </div>\n",
              "  "
            ]
          },
          "metadata": {},
          "execution_count": 17
        }
      ]
    },
    {
      "cell_type": "code",
      "source": [
        "test_x.shape"
      ],
      "metadata": {
        "colab": {
          "base_uri": "https://localhost:8080/"
        },
        "id": "2V8f7NTJjlTa",
        "outputId": "1efeb4f9-1ab9-48a2-c03e-0743dcfc4da6"
      },
      "execution_count": 18,
      "outputs": [
        {
          "output_type": "execute_result",
          "data": {
            "text/plain": [
              "(182, 31)"
            ]
          },
          "metadata": {},
          "execution_count": 18
        }
      ]
    },
    {
      "cell_type": "code",
      "source": [
        "test_x.head(5)"
      ],
      "metadata": {
        "colab": {
          "base_uri": "https://localhost:8080/",
          "height": 299
        },
        "id": "Jq_zL9Cejqpw",
        "outputId": "c7d4df30-d98d-4152-dbae-89f4d4b4a3c9"
      },
      "execution_count": 19,
      "outputs": [
        {
          "output_type": "execute_result",
          "data": {
            "text/plain": [
              "     Exact_MW  FpDensityMorgan1  FpDensityMorgan2  FpDensityMorgan3  \\\n",
              "0  458.231791          1.235294          2.117647          3.000000   \n",
              "1  353.022163          1.043478          1.695652          2.347826   \n",
              "2  295.016684          1.052632          1.684211          2.315789   \n",
              "3  295.082052          1.000000          1.619048          2.190476   \n",
              "4  255.089543          1.000000          1.684211          2.315789   \n",
              "\n",
              "   HeavyAtomMolWt  MaxAbsPartialCharge  MaxPartialCharge  MinAbsPartialCharge  \\\n",
              "0         428.322             0.481165          0.305296             0.305296   \n",
              "1         341.085             0.478722          0.341344             0.341344   \n",
              "2         285.065             0.480985          0.307396             0.307396   \n",
              "3         281.158             1.000000          1.000000             0.549805   \n",
              "4         242.169             0.480985          0.307396             0.307396   \n",
              "\n",
              "   MinPartialCharge    MolWt  ...  Aromatic_heterocycles  Aromatic_rings  \\\n",
              "0         -0.481165  458.562  ...                      2               3   \n",
              "1         -0.478722  354.189  ...                      0               2   \n",
              "2         -0.480985  296.153  ...                      0               2   \n",
              "3         -0.549805  295.270  ...                      0               2   \n",
              "4         -0.480985  255.273  ...                      0               2   \n",
              "\n",
              "   HAcceptors  HDonors  Heteroatoms  Rotatable_Bonds  Saturated_Carbocycles  \\\n",
              "0           5        2            7                8                      0   \n",
              "1           4        2            7                6                      0   \n",
              "2           2        2            5                4                      0   \n",
              "3           4        1            6                4                      0   \n",
              "4           3        2            4                4                      0   \n",
              "\n",
              "   Saturated_Heterocycles  Saturated_Rings  Rings  \n",
              "0                       1                1      5  \n",
              "1                       0                0      2  \n",
              "2                       0                0      2  \n",
              "3                       0                0      2  \n",
              "4                       0                0      2  \n",
              "\n",
              "[5 rows x 31 columns]"
            ],
            "text/html": [
              "\n",
              "  <div id=\"df-033a87f4-a3df-4d53-b647-fb18f3d9db92\">\n",
              "    <div class=\"colab-df-container\">\n",
              "      <div>\n",
              "<style scoped>\n",
              "    .dataframe tbody tr th:only-of-type {\n",
              "        vertical-align: middle;\n",
              "    }\n",
              "\n",
              "    .dataframe tbody tr th {\n",
              "        vertical-align: top;\n",
              "    }\n",
              "\n",
              "    .dataframe thead th {\n",
              "        text-align: right;\n",
              "    }\n",
              "</style>\n",
              "<table border=\"1\" class=\"dataframe\">\n",
              "  <thead>\n",
              "    <tr style=\"text-align: right;\">\n",
              "      <th></th>\n",
              "      <th>Exact_MW</th>\n",
              "      <th>FpDensityMorgan1</th>\n",
              "      <th>FpDensityMorgan2</th>\n",
              "      <th>FpDensityMorgan3</th>\n",
              "      <th>HeavyAtomMolWt</th>\n",
              "      <th>MaxAbsPartialCharge</th>\n",
              "      <th>MaxPartialCharge</th>\n",
              "      <th>MinAbsPartialCharge</th>\n",
              "      <th>MinPartialCharge</th>\n",
              "      <th>MolWt</th>\n",
              "      <th>...</th>\n",
              "      <th>Aromatic_heterocycles</th>\n",
              "      <th>Aromatic_rings</th>\n",
              "      <th>HAcceptors</th>\n",
              "      <th>HDonors</th>\n",
              "      <th>Heteroatoms</th>\n",
              "      <th>Rotatable_Bonds</th>\n",
              "      <th>Saturated_Carbocycles</th>\n",
              "      <th>Saturated_Heterocycles</th>\n",
              "      <th>Saturated_Rings</th>\n",
              "      <th>Rings</th>\n",
              "    </tr>\n",
              "  </thead>\n",
              "  <tbody>\n",
              "    <tr>\n",
              "      <th>0</th>\n",
              "      <td>458.231791</td>\n",
              "      <td>1.235294</td>\n",
              "      <td>2.117647</td>\n",
              "      <td>3.000000</td>\n",
              "      <td>428.322</td>\n",
              "      <td>0.481165</td>\n",
              "      <td>0.305296</td>\n",
              "      <td>0.305296</td>\n",
              "      <td>-0.481165</td>\n",
              "      <td>458.562</td>\n",
              "      <td>...</td>\n",
              "      <td>2</td>\n",
              "      <td>3</td>\n",
              "      <td>5</td>\n",
              "      <td>2</td>\n",
              "      <td>7</td>\n",
              "      <td>8</td>\n",
              "      <td>0</td>\n",
              "      <td>1</td>\n",
              "      <td>1</td>\n",
              "      <td>5</td>\n",
              "    </tr>\n",
              "    <tr>\n",
              "      <th>1</th>\n",
              "      <td>353.022163</td>\n",
              "      <td>1.043478</td>\n",
              "      <td>1.695652</td>\n",
              "      <td>2.347826</td>\n",
              "      <td>341.085</td>\n",
              "      <td>0.478722</td>\n",
              "      <td>0.341344</td>\n",
              "      <td>0.341344</td>\n",
              "      <td>-0.478722</td>\n",
              "      <td>354.189</td>\n",
              "      <td>...</td>\n",
              "      <td>0</td>\n",
              "      <td>2</td>\n",
              "      <td>4</td>\n",
              "      <td>2</td>\n",
              "      <td>7</td>\n",
              "      <td>6</td>\n",
              "      <td>0</td>\n",
              "      <td>0</td>\n",
              "      <td>0</td>\n",
              "      <td>2</td>\n",
              "    </tr>\n",
              "    <tr>\n",
              "      <th>2</th>\n",
              "      <td>295.016684</td>\n",
              "      <td>1.052632</td>\n",
              "      <td>1.684211</td>\n",
              "      <td>2.315789</td>\n",
              "      <td>285.065</td>\n",
              "      <td>0.480985</td>\n",
              "      <td>0.307396</td>\n",
              "      <td>0.307396</td>\n",
              "      <td>-0.480985</td>\n",
              "      <td>296.153</td>\n",
              "      <td>...</td>\n",
              "      <td>0</td>\n",
              "      <td>2</td>\n",
              "      <td>2</td>\n",
              "      <td>2</td>\n",
              "      <td>5</td>\n",
              "      <td>4</td>\n",
              "      <td>0</td>\n",
              "      <td>0</td>\n",
              "      <td>0</td>\n",
              "      <td>2</td>\n",
              "    </tr>\n",
              "    <tr>\n",
              "      <th>3</th>\n",
              "      <td>295.082052</td>\n",
              "      <td>1.000000</td>\n",
              "      <td>1.619048</td>\n",
              "      <td>2.190476</td>\n",
              "      <td>281.158</td>\n",
              "      <td>1.000000</td>\n",
              "      <td>1.000000</td>\n",
              "      <td>0.549805</td>\n",
              "      <td>-0.549805</td>\n",
              "      <td>295.270</td>\n",
              "      <td>...</td>\n",
              "      <td>0</td>\n",
              "      <td>2</td>\n",
              "      <td>4</td>\n",
              "      <td>1</td>\n",
              "      <td>6</td>\n",
              "      <td>4</td>\n",
              "      <td>0</td>\n",
              "      <td>0</td>\n",
              "      <td>0</td>\n",
              "      <td>2</td>\n",
              "    </tr>\n",
              "    <tr>\n",
              "      <th>4</th>\n",
              "      <td>255.089543</td>\n",
              "      <td>1.000000</td>\n",
              "      <td>1.684211</td>\n",
              "      <td>2.315789</td>\n",
              "      <td>242.169</td>\n",
              "      <td>0.480985</td>\n",
              "      <td>0.307396</td>\n",
              "      <td>0.307396</td>\n",
              "      <td>-0.480985</td>\n",
              "      <td>255.273</td>\n",
              "      <td>...</td>\n",
              "      <td>0</td>\n",
              "      <td>2</td>\n",
              "      <td>3</td>\n",
              "      <td>2</td>\n",
              "      <td>4</td>\n",
              "      <td>4</td>\n",
              "      <td>0</td>\n",
              "      <td>0</td>\n",
              "      <td>0</td>\n",
              "      <td>2</td>\n",
              "    </tr>\n",
              "  </tbody>\n",
              "</table>\n",
              "<p>5 rows × 31 columns</p>\n",
              "</div>\n",
              "      <button class=\"colab-df-convert\" onclick=\"convertToInteractive('df-033a87f4-a3df-4d53-b647-fb18f3d9db92')\"\n",
              "              title=\"Convert this dataframe to an interactive table.\"\n",
              "              style=\"display:none;\">\n",
              "        \n",
              "  <svg xmlns=\"http://www.w3.org/2000/svg\" height=\"24px\"viewBox=\"0 0 24 24\"\n",
              "       width=\"24px\">\n",
              "    <path d=\"M0 0h24v24H0V0z\" fill=\"none\"/>\n",
              "    <path d=\"M18.56 5.44l.94 2.06.94-2.06 2.06-.94-2.06-.94-.94-2.06-.94 2.06-2.06.94zm-11 1L8.5 8.5l.94-2.06 2.06-.94-2.06-.94L8.5 2.5l-.94 2.06-2.06.94zm10 10l.94 2.06.94-2.06 2.06-.94-2.06-.94-.94-2.06-.94 2.06-2.06.94z\"/><path d=\"M17.41 7.96l-1.37-1.37c-.4-.4-.92-.59-1.43-.59-.52 0-1.04.2-1.43.59L10.3 9.45l-7.72 7.72c-.78.78-.78 2.05 0 2.83L4 21.41c.39.39.9.59 1.41.59.51 0 1.02-.2 1.41-.59l7.78-7.78 2.81-2.81c.8-.78.8-2.07 0-2.86zM5.41 20L4 18.59l7.72-7.72 1.47 1.35L5.41 20z\"/>\n",
              "  </svg>\n",
              "      </button>\n",
              "      \n",
              "  <style>\n",
              "    .colab-df-container {\n",
              "      display:flex;\n",
              "      flex-wrap:wrap;\n",
              "      gap: 12px;\n",
              "    }\n",
              "\n",
              "    .colab-df-convert {\n",
              "      background-color: #E8F0FE;\n",
              "      border: none;\n",
              "      border-radius: 50%;\n",
              "      cursor: pointer;\n",
              "      display: none;\n",
              "      fill: #1967D2;\n",
              "      height: 32px;\n",
              "      padding: 0 0 0 0;\n",
              "      width: 32px;\n",
              "    }\n",
              "\n",
              "    .colab-df-convert:hover {\n",
              "      background-color: #E2EBFA;\n",
              "      box-shadow: 0px 1px 2px rgba(60, 64, 67, 0.3), 0px 1px 3px 1px rgba(60, 64, 67, 0.15);\n",
              "      fill: #174EA6;\n",
              "    }\n",
              "\n",
              "    [theme=dark] .colab-df-convert {\n",
              "      background-color: #3B4455;\n",
              "      fill: #D2E3FC;\n",
              "    }\n",
              "\n",
              "    [theme=dark] .colab-df-convert:hover {\n",
              "      background-color: #434B5C;\n",
              "      box-shadow: 0px 1px 3px 1px rgba(0, 0, 0, 0.15);\n",
              "      filter: drop-shadow(0px 1px 2px rgba(0, 0, 0, 0.3));\n",
              "      fill: #FFFFFF;\n",
              "    }\n",
              "  </style>\n",
              "\n",
              "      <script>\n",
              "        const buttonEl =\n",
              "          document.querySelector('#df-033a87f4-a3df-4d53-b647-fb18f3d9db92 button.colab-df-convert');\n",
              "        buttonEl.style.display =\n",
              "          google.colab.kernel.accessAllowed ? 'block' : 'none';\n",
              "\n",
              "        async function convertToInteractive(key) {\n",
              "          const element = document.querySelector('#df-033a87f4-a3df-4d53-b647-fb18f3d9db92');\n",
              "          const dataTable =\n",
              "            await google.colab.kernel.invokeFunction('convertToInteractive',\n",
              "                                                     [key], {});\n",
              "          if (!dataTable) return;\n",
              "\n",
              "          const docLinkHtml = 'Like what you see? Visit the ' +\n",
              "            '<a target=\"_blank\" href=https://colab.research.google.com/notebooks/data_table.ipynb>data table notebook</a>'\n",
              "            + ' to learn more about interactive tables.';\n",
              "          element.innerHTML = '';\n",
              "          dataTable['output_type'] = 'display_data';\n",
              "          await google.colab.output.renderOutput(dataTable, element);\n",
              "          const docLink = document.createElement('div');\n",
              "          docLink.innerHTML = docLinkHtml;\n",
              "          element.appendChild(docLink);\n",
              "        }\n",
              "      </script>\n",
              "    </div>\n",
              "  </div>\n",
              "  "
            ]
          },
          "metadata": {},
          "execution_count": 19
        }
      ]
    },
    {
      "cell_type": "code",
      "source": [
        "valid_x.shape"
      ],
      "metadata": {
        "colab": {
          "base_uri": "https://localhost:8080/"
        },
        "id": "YCJgYlal0Hdt",
        "outputId": "f07db76f-8d87-4a02-caa6-38cbe8b636cc"
      },
      "execution_count": 20,
      "outputs": [
        {
          "output_type": "execute_result",
          "data": {
            "text/plain": [
              "(91, 31)"
            ]
          },
          "metadata": {},
          "execution_count": 20
        }
      ]
    },
    {
      "cell_type": "code",
      "source": [
        "valid_x.head(5)"
      ],
      "metadata": {
        "colab": {
          "base_uri": "https://localhost:8080/",
          "height": 299
        },
        "id": "JdkRjjfz0MeB",
        "outputId": "c70e556c-3fa3-43a2-9d59-90e5ea40b06f"
      },
      "execution_count": 21,
      "outputs": [
        {
          "output_type": "execute_result",
          "data": {
            "text/plain": [
              "     Exact_MW  FpDensityMorgan1  FpDensityMorgan2  FpDensityMorgan3  \\\n",
              "0  303.147058          1.318182          1.954545          2.545455   \n",
              "1  303.147058          1.318182          1.954545          2.545455   \n",
              "2  418.089997          0.666667          1.033333          1.366667   \n",
              "3  390.095082          0.892857          1.428571          1.964286   \n",
              "4  810.420379          0.949153          1.711864          2.406780   \n",
              "\n",
              "   HeavyAtomMolWt  MaxAbsPartialCharge  MaxPartialCharge  MinAbsPartialCharge  \\\n",
              "0         282.190             0.461720          0.315550             0.315550   \n",
              "1         282.190             0.461720          0.315550             0.315550   \n",
              "2         400.210             0.492684          0.338269             0.338269   \n",
              "3         372.200             0.492699          0.338268             0.338268   \n",
              "4         752.525             0.496343          0.343611             0.343611   \n",
              "\n",
              "   MinPartialCharge    MolWt  ...  Aromatic_heterocycles  Aromatic_rings  \\\n",
              "0         -0.461720  303.358  ...                      0               1   \n",
              "1         -0.461720  303.358  ...                      0               1   \n",
              "2         -0.492684  418.354  ...                      0               2   \n",
              "3         -0.492699  390.344  ...                      0               2   \n",
              "4         -0.496343  810.989  ...                      1               3   \n",
              "\n",
              "   HAcceptors  HDonors  Heteroatoms  Rotatable_Bonds  Saturated_Carbocycles  \\\n",
              "0           5        1            5                4                      0   \n",
              "1           5        1            5                4                      0   \n",
              "2          10        0           10                5                      0   \n",
              "3           9        1            9                5                      0   \n",
              "4          12        3           13                7                      1   \n",
              "\n",
              "   Saturated_Heterocycles  Saturated_Rings  Rings  \n",
              "0                       3                3      4  \n",
              "1                       3                3      4  \n",
              "2                       0                0      4  \n",
              "3                       0                0      4  \n",
              "4                       2                3      9  \n",
              "\n",
              "[5 rows x 31 columns]"
            ],
            "text/html": [
              "\n",
              "  <div id=\"df-53be4af4-d951-4ff8-a931-4816c583f718\">\n",
              "    <div class=\"colab-df-container\">\n",
              "      <div>\n",
              "<style scoped>\n",
              "    .dataframe tbody tr th:only-of-type {\n",
              "        vertical-align: middle;\n",
              "    }\n",
              "\n",
              "    .dataframe tbody tr th {\n",
              "        vertical-align: top;\n",
              "    }\n",
              "\n",
              "    .dataframe thead th {\n",
              "        text-align: right;\n",
              "    }\n",
              "</style>\n",
              "<table border=\"1\" class=\"dataframe\">\n",
              "  <thead>\n",
              "    <tr style=\"text-align: right;\">\n",
              "      <th></th>\n",
              "      <th>Exact_MW</th>\n",
              "      <th>FpDensityMorgan1</th>\n",
              "      <th>FpDensityMorgan2</th>\n",
              "      <th>FpDensityMorgan3</th>\n",
              "      <th>HeavyAtomMolWt</th>\n",
              "      <th>MaxAbsPartialCharge</th>\n",
              "      <th>MaxPartialCharge</th>\n",
              "      <th>MinAbsPartialCharge</th>\n",
              "      <th>MinPartialCharge</th>\n",
              "      <th>MolWt</th>\n",
              "      <th>...</th>\n",
              "      <th>Aromatic_heterocycles</th>\n",
              "      <th>Aromatic_rings</th>\n",
              "      <th>HAcceptors</th>\n",
              "      <th>HDonors</th>\n",
              "      <th>Heteroatoms</th>\n",
              "      <th>Rotatable_Bonds</th>\n",
              "      <th>Saturated_Carbocycles</th>\n",
              "      <th>Saturated_Heterocycles</th>\n",
              "      <th>Saturated_Rings</th>\n",
              "      <th>Rings</th>\n",
              "    </tr>\n",
              "  </thead>\n",
              "  <tbody>\n",
              "    <tr>\n",
              "      <th>0</th>\n",
              "      <td>303.147058</td>\n",
              "      <td>1.318182</td>\n",
              "      <td>1.954545</td>\n",
              "      <td>2.545455</td>\n",
              "      <td>282.190</td>\n",
              "      <td>0.461720</td>\n",
              "      <td>0.315550</td>\n",
              "      <td>0.315550</td>\n",
              "      <td>-0.461720</td>\n",
              "      <td>303.358</td>\n",
              "      <td>...</td>\n",
              "      <td>0</td>\n",
              "      <td>1</td>\n",
              "      <td>5</td>\n",
              "      <td>1</td>\n",
              "      <td>5</td>\n",
              "      <td>4</td>\n",
              "      <td>0</td>\n",
              "      <td>3</td>\n",
              "      <td>3</td>\n",
              "      <td>4</td>\n",
              "    </tr>\n",
              "    <tr>\n",
              "      <th>1</th>\n",
              "      <td>303.147058</td>\n",
              "      <td>1.318182</td>\n",
              "      <td>1.954545</td>\n",
              "      <td>2.545455</td>\n",
              "      <td>282.190</td>\n",
              "      <td>0.461720</td>\n",
              "      <td>0.315550</td>\n",
              "      <td>0.315550</td>\n",
              "      <td>-0.461720</td>\n",
              "      <td>303.358</td>\n",
              "      <td>...</td>\n",
              "      <td>0</td>\n",
              "      <td>1</td>\n",
              "      <td>5</td>\n",
              "      <td>1</td>\n",
              "      <td>5</td>\n",
              "      <td>4</td>\n",
              "      <td>0</td>\n",
              "      <td>3</td>\n",
              "      <td>3</td>\n",
              "      <td>4</td>\n",
              "    </tr>\n",
              "    <tr>\n",
              "      <th>2</th>\n",
              "      <td>418.089997</td>\n",
              "      <td>0.666667</td>\n",
              "      <td>1.033333</td>\n",
              "      <td>1.366667</td>\n",
              "      <td>400.210</td>\n",
              "      <td>0.492684</td>\n",
              "      <td>0.338269</td>\n",
              "      <td>0.338269</td>\n",
              "      <td>-0.492684</td>\n",
              "      <td>418.354</td>\n",
              "      <td>...</td>\n",
              "      <td>0</td>\n",
              "      <td>2</td>\n",
              "      <td>10</td>\n",
              "      <td>0</td>\n",
              "      <td>10</td>\n",
              "      <td>5</td>\n",
              "      <td>0</td>\n",
              "      <td>0</td>\n",
              "      <td>0</td>\n",
              "      <td>4</td>\n",
              "    </tr>\n",
              "    <tr>\n",
              "      <th>3</th>\n",
              "      <td>390.095082</td>\n",
              "      <td>0.892857</td>\n",
              "      <td>1.428571</td>\n",
              "      <td>1.964286</td>\n",
              "      <td>372.200</td>\n",
              "      <td>0.492699</td>\n",
              "      <td>0.338268</td>\n",
              "      <td>0.338268</td>\n",
              "      <td>-0.492699</td>\n",
              "      <td>390.344</td>\n",
              "      <td>...</td>\n",
              "      <td>0</td>\n",
              "      <td>2</td>\n",
              "      <td>9</td>\n",
              "      <td>1</td>\n",
              "      <td>9</td>\n",
              "      <td>5</td>\n",
              "      <td>0</td>\n",
              "      <td>0</td>\n",
              "      <td>0</td>\n",
              "      <td>4</td>\n",
              "    </tr>\n",
              "    <tr>\n",
              "      <th>4</th>\n",
              "      <td>810.420379</td>\n",
              "      <td>0.949153</td>\n",
              "      <td>1.711864</td>\n",
              "      <td>2.406780</td>\n",
              "      <td>752.525</td>\n",
              "      <td>0.496343</td>\n",
              "      <td>0.343611</td>\n",
              "      <td>0.343611</td>\n",
              "      <td>-0.496343</td>\n",
              "      <td>810.989</td>\n",
              "      <td>...</td>\n",
              "      <td>1</td>\n",
              "      <td>3</td>\n",
              "      <td>12</td>\n",
              "      <td>3</td>\n",
              "      <td>13</td>\n",
              "      <td>7</td>\n",
              "      <td>1</td>\n",
              "      <td>2</td>\n",
              "      <td>3</td>\n",
              "      <td>9</td>\n",
              "    </tr>\n",
              "  </tbody>\n",
              "</table>\n",
              "<p>5 rows × 31 columns</p>\n",
              "</div>\n",
              "      <button class=\"colab-df-convert\" onclick=\"convertToInteractive('df-53be4af4-d951-4ff8-a931-4816c583f718')\"\n",
              "              title=\"Convert this dataframe to an interactive table.\"\n",
              "              style=\"display:none;\">\n",
              "        \n",
              "  <svg xmlns=\"http://www.w3.org/2000/svg\" height=\"24px\"viewBox=\"0 0 24 24\"\n",
              "       width=\"24px\">\n",
              "    <path d=\"M0 0h24v24H0V0z\" fill=\"none\"/>\n",
              "    <path d=\"M18.56 5.44l.94 2.06.94-2.06 2.06-.94-2.06-.94-.94-2.06-.94 2.06-2.06.94zm-11 1L8.5 8.5l.94-2.06 2.06-.94-2.06-.94L8.5 2.5l-.94 2.06-2.06.94zm10 10l.94 2.06.94-2.06 2.06-.94-2.06-.94-.94-2.06-.94 2.06-2.06.94z\"/><path d=\"M17.41 7.96l-1.37-1.37c-.4-.4-.92-.59-1.43-.59-.52 0-1.04.2-1.43.59L10.3 9.45l-7.72 7.72c-.78.78-.78 2.05 0 2.83L4 21.41c.39.39.9.59 1.41.59.51 0 1.02-.2 1.41-.59l7.78-7.78 2.81-2.81c.8-.78.8-2.07 0-2.86zM5.41 20L4 18.59l7.72-7.72 1.47 1.35L5.41 20z\"/>\n",
              "  </svg>\n",
              "      </button>\n",
              "      \n",
              "  <style>\n",
              "    .colab-df-container {\n",
              "      display:flex;\n",
              "      flex-wrap:wrap;\n",
              "      gap: 12px;\n",
              "    }\n",
              "\n",
              "    .colab-df-convert {\n",
              "      background-color: #E8F0FE;\n",
              "      border: none;\n",
              "      border-radius: 50%;\n",
              "      cursor: pointer;\n",
              "      display: none;\n",
              "      fill: #1967D2;\n",
              "      height: 32px;\n",
              "      padding: 0 0 0 0;\n",
              "      width: 32px;\n",
              "    }\n",
              "\n",
              "    .colab-df-convert:hover {\n",
              "      background-color: #E2EBFA;\n",
              "      box-shadow: 0px 1px 2px rgba(60, 64, 67, 0.3), 0px 1px 3px 1px rgba(60, 64, 67, 0.15);\n",
              "      fill: #174EA6;\n",
              "    }\n",
              "\n",
              "    [theme=dark] .colab-df-convert {\n",
              "      background-color: #3B4455;\n",
              "      fill: #D2E3FC;\n",
              "    }\n",
              "\n",
              "    [theme=dark] .colab-df-convert:hover {\n",
              "      background-color: #434B5C;\n",
              "      box-shadow: 0px 1px 3px 1px rgba(0, 0, 0, 0.15);\n",
              "      filter: drop-shadow(0px 1px 2px rgba(0, 0, 0, 0.3));\n",
              "      fill: #FFFFFF;\n",
              "    }\n",
              "  </style>\n",
              "\n",
              "      <script>\n",
              "        const buttonEl =\n",
              "          document.querySelector('#df-53be4af4-d951-4ff8-a931-4816c583f718 button.colab-df-convert');\n",
              "        buttonEl.style.display =\n",
              "          google.colab.kernel.accessAllowed ? 'block' : 'none';\n",
              "\n",
              "        async function convertToInteractive(key) {\n",
              "          const element = document.querySelector('#df-53be4af4-d951-4ff8-a931-4816c583f718');\n",
              "          const dataTable =\n",
              "            await google.colab.kernel.invokeFunction('convertToInteractive',\n",
              "                                                     [key], {});\n",
              "          if (!dataTable) return;\n",
              "\n",
              "          const docLinkHtml = 'Like what you see? Visit the ' +\n",
              "            '<a target=\"_blank\" href=https://colab.research.google.com/notebooks/data_table.ipynb>data table notebook</a>'\n",
              "            + ' to learn more about interactive tables.';\n",
              "          element.innerHTML = '';\n",
              "          dataTable['output_type'] = 'display_data';\n",
              "          await google.colab.output.renderOutput(dataTable, element);\n",
              "          const docLink = document.createElement('div');\n",
              "          docLink.innerHTML = docLinkHtml;\n",
              "          element.appendChild(docLink);\n",
              "        }\n",
              "      </script>\n",
              "    </div>\n",
              "  </div>\n",
              "  "
            ]
          },
          "metadata": {},
          "execution_count": 21
        }
      ]
    },
    {
      "cell_type": "markdown",
      "source": [
        "check correlation between each feature column and target column"
      ],
      "metadata": {
        "id": "nNE9Yl1P0ccc"
      }
    },
    {
      "cell_type": "code",
      "source": [
        "corr = []\n",
        "for col in train_x.columns:\n",
        "  corr.append(train_x[col].corr(train['Y']))"
      ],
      "metadata": {
        "id": "Li7TVv9hk5fI"
      },
      "execution_count": 22,
      "outputs": []
    },
    {
      "cell_type": "code",
      "source": [
        "tdc = pd.Series(corr, index= train_x.columns)\n",
        "tdc.sort_values(ascending=False, inplace=True)\n",
        "tdc"
      ],
      "metadata": {
        "colab": {
          "base_uri": "https://localhost:8080/"
        },
        "id": "3gvCiUiRlqcc",
        "outputId": "65ef18b7-abb3-4ebc-f7cd-656dd7f124af"
      },
      "execution_count": 23,
      "outputs": [
        {
          "output_type": "execute_result",
          "data": {
            "text/plain": [
              "Partition_Coefficient     0.310733\n",
              "MinPartialCharge          0.211138\n",
              "FpDensityMorgan1          0.140545\n",
              "FpDensityMorgan2          0.097654\n",
              "FpDensityMorgan3          0.050627\n",
              "FractionCSP3             -0.011418\n",
              "Aliphatic_carbocycles    -0.019166\n",
              "Saturated_Carbocycles    -0.020386\n",
              "MaxPartialCharge         -0.033257\n",
              "MinAbsPartialCharge      -0.063922\n",
              "Aromatic_heterocycles    -0.108691\n",
              "Aliphatic_rings          -0.113071\n",
              "Saturated_Rings          -0.128117\n",
              "Aliphatic_heterocycles   -0.143813\n",
              "Aromatic_carbocycles     -0.162762\n",
              "Saturated_Heterocycles   -0.168078\n",
              "MaxAbsPartialCharge      -0.177314\n",
              "Aromatic_rings           -0.204919\n",
              "Rings                    -0.235344\n",
              "Rotatable_Bonds          -0.262998\n",
              "NumValenceElectrons      -0.352216\n",
              "Heavy_atoms              -0.354439\n",
              "MolWt                    -0.354867\n",
              "Exact_MW                 -0.355060\n",
              "HeavyAtomMolWt           -0.360534\n",
              "HAcceptors               -0.394687\n",
              "Heteroatoms              -0.464890\n",
              "N&O                      -0.524498\n",
              "HDonors                  -0.653263\n",
              "NHs/OHs                  -0.657122\n",
              "NumRadicalElectrons            NaN\n",
              "dtype: float64"
            ]
          },
          "metadata": {},
          "execution_count": 23
        }
      ]
    },
    {
      "cell_type": "markdown",
      "source": [
        "Dropping Index"
      ],
      "metadata": {
        "id": "jorL8PSa1W7b"
      }
    },
    {
      "cell_type": "code",
      "source": [
        "train_x.drop(columns=[ 'FpDensityMorgan3', 'FractionCSP3', 'Saturated_Carbocycles', 'Aliphatic_carbocycles', 'FpDensityMorgan2', 'MaxPartialCharge','NumRadicalElectrons' ], inplace = True)"
      ],
      "metadata": {
        "id": "N1EhHyyNmCAC"
      },
      "execution_count": 24,
      "outputs": []
    },
    {
      "cell_type": "code",
      "source": [
        "valid_x.drop(columns=[ 'FpDensityMorgan3', 'FractionCSP3', 'Saturated_Carbocycles', 'Aliphatic_carbocycles', 'FpDensityMorgan2', 'MaxPartialCharge','NumRadicalElectrons' ], inplace = True)"
      ],
      "metadata": {
        "id": "oi_PXOxDFDpG"
      },
      "execution_count": 25,
      "outputs": []
    },
    {
      "cell_type": "code",
      "source": [
        "test_x.drop(columns=[ 'FpDensityMorgan3', 'FractionCSP3', 'Saturated_Carbocycles', 'Aliphatic_carbocycles', 'FpDensityMorgan2', 'MaxPartialCharge','NumRadicalElectrons' ], inplace = True)"
      ],
      "metadata": {
        "id": "BOry0vcFFDiE"
      },
      "execution_count": 26,
      "outputs": []
    },
    {
      "cell_type": "code",
      "source": [
        "train_x.shape"
      ],
      "metadata": {
        "colab": {
          "base_uri": "https://localhost:8080/"
        },
        "id": "S-9LVFSpoKIi",
        "outputId": "80a77cb4-0952-4ea1-f6a2-1258439b84cc"
      },
      "execution_count": 27,
      "outputs": [
        {
          "output_type": "execute_result",
          "data": {
            "text/plain": [
              "(637, 24)"
            ]
          },
          "metadata": {},
          "execution_count": 27
        }
      ]
    },
    {
      "cell_type": "code",
      "source": [
        "train_x.head(5)"
      ],
      "metadata": {
        "colab": {
          "base_uri": "https://localhost:8080/",
          "height": 299
        },
        "id": "2NYDQdZQoXyk",
        "outputId": "37009b9c-086d-4815-de3d-03fdd65c9498"
      },
      "execution_count": 28,
      "outputs": [
        {
          "output_type": "execute_result",
          "data": {
            "text/plain": [
              "     Exact_MW  FpDensityMorgan1  HeavyAtomMolWt  MaxAbsPartialCharge  \\\n",
              "0  616.308327          0.931818         572.476             0.381429   \n",
              "1  315.000724          1.210526         306.078             0.323840   \n",
              "2  356.162374          0.961538         332.226             0.501699   \n",
              "3  378.076217          1.153846         365.275             0.415986   \n",
              "4  394.071131          1.185185         381.274             0.572598   \n",
              "\n",
              "   MinAbsPartialCharge  MinPartialCharge    MolWt  NumValenceElectrons  \\\n",
              "0             0.261749         -0.381429  616.828                  234   \n",
              "1             0.245571         -0.323840  316.158                   94   \n",
              "2             0.200256         -0.501699  356.418                  138   \n",
              "3             0.378322         -0.378322  378.379                  134   \n",
              "4             0.405718         -0.405718  394.378                  140   \n",
              "\n",
              "   Partition_Coefficient  Heavy_atoms  ...  Aromatic_carbocycles  \\\n",
              "0                 4.6786           44  ...                     2   \n",
              "1                 2.6336           19  ...                     1   \n",
              "2                 4.6883           26  ...                     2   \n",
              "3                 4.4213           26  ...                     1   \n",
              "4                 4.3011           27  ...                     1   \n",
              "\n",
              "   Aromatic_heterocycles  Aromatic_rings  HAcceptors  HDonors  Heteroatoms  \\\n",
              "0                      1               3           6        3            9   \n",
              "1                      1               2           3        1            5   \n",
              "2                      0               2           5        1            5   \n",
              "3                      2               3           5        2            9   \n",
              "4                      2               3           6        2           10   \n",
              "\n",
              "   Rotatable_Bonds  Saturated_Heterocycles  Saturated_Rings  Rings  \n",
              "0               10                       2                3      6  \n",
              "1                1                       0                0      3  \n",
              "2                5                       0                0      3  \n",
              "3                5                       0                0      3  \n",
              "4                6                       0                0      3  \n",
              "\n",
              "[5 rows x 24 columns]"
            ],
            "text/html": [
              "\n",
              "  <div id=\"df-6688632b-a7e2-4e06-8bb5-a5435933adb1\">\n",
              "    <div class=\"colab-df-container\">\n",
              "      <div>\n",
              "<style scoped>\n",
              "    .dataframe tbody tr th:only-of-type {\n",
              "        vertical-align: middle;\n",
              "    }\n",
              "\n",
              "    .dataframe tbody tr th {\n",
              "        vertical-align: top;\n",
              "    }\n",
              "\n",
              "    .dataframe thead th {\n",
              "        text-align: right;\n",
              "    }\n",
              "</style>\n",
              "<table border=\"1\" class=\"dataframe\">\n",
              "  <thead>\n",
              "    <tr style=\"text-align: right;\">\n",
              "      <th></th>\n",
              "      <th>Exact_MW</th>\n",
              "      <th>FpDensityMorgan1</th>\n",
              "      <th>HeavyAtomMolWt</th>\n",
              "      <th>MaxAbsPartialCharge</th>\n",
              "      <th>MinAbsPartialCharge</th>\n",
              "      <th>MinPartialCharge</th>\n",
              "      <th>MolWt</th>\n",
              "      <th>NumValenceElectrons</th>\n",
              "      <th>Partition_Coefficient</th>\n",
              "      <th>Heavy_atoms</th>\n",
              "      <th>...</th>\n",
              "      <th>Aromatic_carbocycles</th>\n",
              "      <th>Aromatic_heterocycles</th>\n",
              "      <th>Aromatic_rings</th>\n",
              "      <th>HAcceptors</th>\n",
              "      <th>HDonors</th>\n",
              "      <th>Heteroatoms</th>\n",
              "      <th>Rotatable_Bonds</th>\n",
              "      <th>Saturated_Heterocycles</th>\n",
              "      <th>Saturated_Rings</th>\n",
              "      <th>Rings</th>\n",
              "    </tr>\n",
              "  </thead>\n",
              "  <tbody>\n",
              "    <tr>\n",
              "      <th>0</th>\n",
              "      <td>616.308327</td>\n",
              "      <td>0.931818</td>\n",
              "      <td>572.476</td>\n",
              "      <td>0.381429</td>\n",
              "      <td>0.261749</td>\n",
              "      <td>-0.381429</td>\n",
              "      <td>616.828</td>\n",
              "      <td>234</td>\n",
              "      <td>4.6786</td>\n",
              "      <td>44</td>\n",
              "      <td>...</td>\n",
              "      <td>2</td>\n",
              "      <td>1</td>\n",
              "      <td>3</td>\n",
              "      <td>6</td>\n",
              "      <td>3</td>\n",
              "      <td>9</td>\n",
              "      <td>10</td>\n",
              "      <td>2</td>\n",
              "      <td>3</td>\n",
              "      <td>6</td>\n",
              "    </tr>\n",
              "    <tr>\n",
              "      <th>1</th>\n",
              "      <td>315.000724</td>\n",
              "      <td>1.210526</td>\n",
              "      <td>306.078</td>\n",
              "      <td>0.323840</td>\n",
              "      <td>0.245571</td>\n",
              "      <td>-0.323840</td>\n",
              "      <td>316.158</td>\n",
              "      <td>94</td>\n",
              "      <td>2.6336</td>\n",
              "      <td>19</td>\n",
              "      <td>...</td>\n",
              "      <td>1</td>\n",
              "      <td>1</td>\n",
              "      <td>2</td>\n",
              "      <td>3</td>\n",
              "      <td>1</td>\n",
              "      <td>5</td>\n",
              "      <td>1</td>\n",
              "      <td>0</td>\n",
              "      <td>0</td>\n",
              "      <td>3</td>\n",
              "    </tr>\n",
              "    <tr>\n",
              "      <th>2</th>\n",
              "      <td>356.162374</td>\n",
              "      <td>0.961538</td>\n",
              "      <td>332.226</td>\n",
              "      <td>0.501699</td>\n",
              "      <td>0.200256</td>\n",
              "      <td>-0.501699</td>\n",
              "      <td>356.418</td>\n",
              "      <td>138</td>\n",
              "      <td>4.6883</td>\n",
              "      <td>26</td>\n",
              "      <td>...</td>\n",
              "      <td>2</td>\n",
              "      <td>0</td>\n",
              "      <td>2</td>\n",
              "      <td>5</td>\n",
              "      <td>1</td>\n",
              "      <td>5</td>\n",
              "      <td>5</td>\n",
              "      <td>0</td>\n",
              "      <td>0</td>\n",
              "      <td>3</td>\n",
              "    </tr>\n",
              "    <tr>\n",
              "      <th>3</th>\n",
              "      <td>378.076217</td>\n",
              "      <td>1.153846</td>\n",
              "      <td>365.275</td>\n",
              "      <td>0.415986</td>\n",
              "      <td>0.378322</td>\n",
              "      <td>-0.378322</td>\n",
              "      <td>378.379</td>\n",
              "      <td>134</td>\n",
              "      <td>4.4213</td>\n",
              "      <td>26</td>\n",
              "      <td>...</td>\n",
              "      <td>1</td>\n",
              "      <td>2</td>\n",
              "      <td>3</td>\n",
              "      <td>5</td>\n",
              "      <td>2</td>\n",
              "      <td>9</td>\n",
              "      <td>5</td>\n",
              "      <td>0</td>\n",
              "      <td>0</td>\n",
              "      <td>3</td>\n",
              "    </tr>\n",
              "    <tr>\n",
              "      <th>4</th>\n",
              "      <td>394.071131</td>\n",
              "      <td>1.185185</td>\n",
              "      <td>381.274</td>\n",
              "      <td>0.572598</td>\n",
              "      <td>0.405718</td>\n",
              "      <td>-0.405718</td>\n",
              "      <td>394.378</td>\n",
              "      <td>140</td>\n",
              "      <td>4.3011</td>\n",
              "      <td>27</td>\n",
              "      <td>...</td>\n",
              "      <td>1</td>\n",
              "      <td>2</td>\n",
              "      <td>3</td>\n",
              "      <td>6</td>\n",
              "      <td>2</td>\n",
              "      <td>10</td>\n",
              "      <td>6</td>\n",
              "      <td>0</td>\n",
              "      <td>0</td>\n",
              "      <td>3</td>\n",
              "    </tr>\n",
              "  </tbody>\n",
              "</table>\n",
              "<p>5 rows × 24 columns</p>\n",
              "</div>\n",
              "      <button class=\"colab-df-convert\" onclick=\"convertToInteractive('df-6688632b-a7e2-4e06-8bb5-a5435933adb1')\"\n",
              "              title=\"Convert this dataframe to an interactive table.\"\n",
              "              style=\"display:none;\">\n",
              "        \n",
              "  <svg xmlns=\"http://www.w3.org/2000/svg\" height=\"24px\"viewBox=\"0 0 24 24\"\n",
              "       width=\"24px\">\n",
              "    <path d=\"M0 0h24v24H0V0z\" fill=\"none\"/>\n",
              "    <path d=\"M18.56 5.44l.94 2.06.94-2.06 2.06-.94-2.06-.94-.94-2.06-.94 2.06-2.06.94zm-11 1L8.5 8.5l.94-2.06 2.06-.94-2.06-.94L8.5 2.5l-.94 2.06-2.06.94zm10 10l.94 2.06.94-2.06 2.06-.94-2.06-.94-.94-2.06-.94 2.06-2.06.94z\"/><path d=\"M17.41 7.96l-1.37-1.37c-.4-.4-.92-.59-1.43-.59-.52 0-1.04.2-1.43.59L10.3 9.45l-7.72 7.72c-.78.78-.78 2.05 0 2.83L4 21.41c.39.39.9.59 1.41.59.51 0 1.02-.2 1.41-.59l7.78-7.78 2.81-2.81c.8-.78.8-2.07 0-2.86zM5.41 20L4 18.59l7.72-7.72 1.47 1.35L5.41 20z\"/>\n",
              "  </svg>\n",
              "      </button>\n",
              "      \n",
              "  <style>\n",
              "    .colab-df-container {\n",
              "      display:flex;\n",
              "      flex-wrap:wrap;\n",
              "      gap: 12px;\n",
              "    }\n",
              "\n",
              "    .colab-df-convert {\n",
              "      background-color: #E8F0FE;\n",
              "      border: none;\n",
              "      border-radius: 50%;\n",
              "      cursor: pointer;\n",
              "      display: none;\n",
              "      fill: #1967D2;\n",
              "      height: 32px;\n",
              "      padding: 0 0 0 0;\n",
              "      width: 32px;\n",
              "    }\n",
              "\n",
              "    .colab-df-convert:hover {\n",
              "      background-color: #E2EBFA;\n",
              "      box-shadow: 0px 1px 2px rgba(60, 64, 67, 0.3), 0px 1px 3px 1px rgba(60, 64, 67, 0.15);\n",
              "      fill: #174EA6;\n",
              "    }\n",
              "\n",
              "    [theme=dark] .colab-df-convert {\n",
              "      background-color: #3B4455;\n",
              "      fill: #D2E3FC;\n",
              "    }\n",
              "\n",
              "    [theme=dark] .colab-df-convert:hover {\n",
              "      background-color: #434B5C;\n",
              "      box-shadow: 0px 1px 3px 1px rgba(0, 0, 0, 0.15);\n",
              "      filter: drop-shadow(0px 1px 2px rgba(0, 0, 0, 0.3));\n",
              "      fill: #FFFFFF;\n",
              "    }\n",
              "  </style>\n",
              "\n",
              "      <script>\n",
              "        const buttonEl =\n",
              "          document.querySelector('#df-6688632b-a7e2-4e06-8bb5-a5435933adb1 button.colab-df-convert');\n",
              "        buttonEl.style.display =\n",
              "          google.colab.kernel.accessAllowed ? 'block' : 'none';\n",
              "\n",
              "        async function convertToInteractive(key) {\n",
              "          const element = document.querySelector('#df-6688632b-a7e2-4e06-8bb5-a5435933adb1');\n",
              "          const dataTable =\n",
              "            await google.colab.kernel.invokeFunction('convertToInteractive',\n",
              "                                                     [key], {});\n",
              "          if (!dataTable) return;\n",
              "\n",
              "          const docLinkHtml = 'Like what you see? Visit the ' +\n",
              "            '<a target=\"_blank\" href=https://colab.research.google.com/notebooks/data_table.ipynb>data table notebook</a>'\n",
              "            + ' to learn more about interactive tables.';\n",
              "          element.innerHTML = '';\n",
              "          dataTable['output_type'] = 'display_data';\n",
              "          await google.colab.output.renderOutput(dataTable, element);\n",
              "          const docLink = document.createElement('div');\n",
              "          docLink.innerHTML = docLinkHtml;\n",
              "          element.appendChild(docLink);\n",
              "        }\n",
              "      </script>\n",
              "    </div>\n",
              "  </div>\n",
              "  "
            ]
          },
          "metadata": {},
          "execution_count": 28
        }
      ]
    },
    {
      "cell_type": "code",
      "source": [
        "test_x.shape"
      ],
      "metadata": {
        "colab": {
          "base_uri": "https://localhost:8080/"
        },
        "id": "d5KAvrwaohsn",
        "outputId": "5ab5a2c4-36b8-43f2-808f-3a94efbb629d"
      },
      "execution_count": 29,
      "outputs": [
        {
          "output_type": "execute_result",
          "data": {
            "text/plain": [
              "(182, 24)"
            ]
          },
          "metadata": {},
          "execution_count": 29
        }
      ]
    },
    {
      "cell_type": "code",
      "source": [
        "test_x.head(5)"
      ],
      "metadata": {
        "colab": {
          "base_uri": "https://localhost:8080/",
          "height": 299
        },
        "id": "zmkdbE4W4GrZ",
        "outputId": "e461b7a5-3801-4d6c-e3d4-336472a46fad"
      },
      "execution_count": 30,
      "outputs": [
        {
          "output_type": "execute_result",
          "data": {
            "text/plain": [
              "     Exact_MW  FpDensityMorgan1  HeavyAtomMolWt  MaxAbsPartialCharge  \\\n",
              "0  458.231791          1.235294         428.322             0.481165   \n",
              "1  353.022163          1.043478         341.085             0.478722   \n",
              "2  295.016684          1.052632         285.065             0.480985   \n",
              "3  295.082052          1.000000         281.158             1.000000   \n",
              "4  255.089543          1.000000         242.169             0.480985   \n",
              "\n",
              "   MinAbsPartialCharge  MinPartialCharge    MolWt  NumValenceElectrons  \\\n",
              "0             0.305296         -0.481165  458.562                  176   \n",
              "1             0.341344         -0.478722  354.189                  120   \n",
              "2             0.307396         -0.480985  296.153                   98   \n",
              "3             0.549805         -0.549805  295.270                  104   \n",
              "4             0.307396         -0.480985  255.273                   96   \n",
              "\n",
              "   Partition_Coefficient  Heavy_atoms  ...  Aromatic_carbocycles  \\\n",
              "0                 4.3751           34  ...                     1   \n",
              "1                 3.9073           23  ...                     2   \n",
              "2                 4.3641           19  ...                     2   \n",
              "3                -3.0285           21  ...                     2   \n",
              "4                 2.1269           19  ...                     2   \n",
              "\n",
              "   Aromatic_heterocycles  Aromatic_rings  HAcceptors  HDonors  Heteroatoms  \\\n",
              "0                      2               3           5        2            7   \n",
              "1                      0               2           4        2            7   \n",
              "2                      0               2           2        2            5   \n",
              "3                      0               2           4        1            6   \n",
              "4                      0               2           3        2            4   \n",
              "\n",
              "   Rotatable_Bonds  Saturated_Heterocycles  Saturated_Rings  Rings  \n",
              "0                8                       1                1      5  \n",
              "1                6                       0                0      2  \n",
              "2                4                       0                0      2  \n",
              "3                4                       0                0      2  \n",
              "4                4                       0                0      2  \n",
              "\n",
              "[5 rows x 24 columns]"
            ],
            "text/html": [
              "\n",
              "  <div id=\"df-859a4101-af0a-4b89-a8f3-f2c738d44871\">\n",
              "    <div class=\"colab-df-container\">\n",
              "      <div>\n",
              "<style scoped>\n",
              "    .dataframe tbody tr th:only-of-type {\n",
              "        vertical-align: middle;\n",
              "    }\n",
              "\n",
              "    .dataframe tbody tr th {\n",
              "        vertical-align: top;\n",
              "    }\n",
              "\n",
              "    .dataframe thead th {\n",
              "        text-align: right;\n",
              "    }\n",
              "</style>\n",
              "<table border=\"1\" class=\"dataframe\">\n",
              "  <thead>\n",
              "    <tr style=\"text-align: right;\">\n",
              "      <th></th>\n",
              "      <th>Exact_MW</th>\n",
              "      <th>FpDensityMorgan1</th>\n",
              "      <th>HeavyAtomMolWt</th>\n",
              "      <th>MaxAbsPartialCharge</th>\n",
              "      <th>MinAbsPartialCharge</th>\n",
              "      <th>MinPartialCharge</th>\n",
              "      <th>MolWt</th>\n",
              "      <th>NumValenceElectrons</th>\n",
              "      <th>Partition_Coefficient</th>\n",
              "      <th>Heavy_atoms</th>\n",
              "      <th>...</th>\n",
              "      <th>Aromatic_carbocycles</th>\n",
              "      <th>Aromatic_heterocycles</th>\n",
              "      <th>Aromatic_rings</th>\n",
              "      <th>HAcceptors</th>\n",
              "      <th>HDonors</th>\n",
              "      <th>Heteroatoms</th>\n",
              "      <th>Rotatable_Bonds</th>\n",
              "      <th>Saturated_Heterocycles</th>\n",
              "      <th>Saturated_Rings</th>\n",
              "      <th>Rings</th>\n",
              "    </tr>\n",
              "  </thead>\n",
              "  <tbody>\n",
              "    <tr>\n",
              "      <th>0</th>\n",
              "      <td>458.231791</td>\n",
              "      <td>1.235294</td>\n",
              "      <td>428.322</td>\n",
              "      <td>0.481165</td>\n",
              "      <td>0.305296</td>\n",
              "      <td>-0.481165</td>\n",
              "      <td>458.562</td>\n",
              "      <td>176</td>\n",
              "      <td>4.3751</td>\n",
              "      <td>34</td>\n",
              "      <td>...</td>\n",
              "      <td>1</td>\n",
              "      <td>2</td>\n",
              "      <td>3</td>\n",
              "      <td>5</td>\n",
              "      <td>2</td>\n",
              "      <td>7</td>\n",
              "      <td>8</td>\n",
              "      <td>1</td>\n",
              "      <td>1</td>\n",
              "      <td>5</td>\n",
              "    </tr>\n",
              "    <tr>\n",
              "      <th>1</th>\n",
              "      <td>353.022163</td>\n",
              "      <td>1.043478</td>\n",
              "      <td>341.085</td>\n",
              "      <td>0.478722</td>\n",
              "      <td>0.341344</td>\n",
              "      <td>-0.478722</td>\n",
              "      <td>354.189</td>\n",
              "      <td>120</td>\n",
              "      <td>3.9073</td>\n",
              "      <td>23</td>\n",
              "      <td>...</td>\n",
              "      <td>2</td>\n",
              "      <td>0</td>\n",
              "      <td>2</td>\n",
              "      <td>4</td>\n",
              "      <td>2</td>\n",
              "      <td>7</td>\n",
              "      <td>6</td>\n",
              "      <td>0</td>\n",
              "      <td>0</td>\n",
              "      <td>2</td>\n",
              "    </tr>\n",
              "    <tr>\n",
              "      <th>2</th>\n",
              "      <td>295.016684</td>\n",
              "      <td>1.052632</td>\n",
              "      <td>285.065</td>\n",
              "      <td>0.480985</td>\n",
              "      <td>0.307396</td>\n",
              "      <td>-0.480985</td>\n",
              "      <td>296.153</td>\n",
              "      <td>98</td>\n",
              "      <td>4.3641</td>\n",
              "      <td>19</td>\n",
              "      <td>...</td>\n",
              "      <td>2</td>\n",
              "      <td>0</td>\n",
              "      <td>2</td>\n",
              "      <td>2</td>\n",
              "      <td>2</td>\n",
              "      <td>5</td>\n",
              "      <td>4</td>\n",
              "      <td>0</td>\n",
              "      <td>0</td>\n",
              "      <td>2</td>\n",
              "    </tr>\n",
              "    <tr>\n",
              "      <th>3</th>\n",
              "      <td>295.082052</td>\n",
              "      <td>1.000000</td>\n",
              "      <td>281.158</td>\n",
              "      <td>1.000000</td>\n",
              "      <td>0.549805</td>\n",
              "      <td>-0.549805</td>\n",
              "      <td>295.270</td>\n",
              "      <td>104</td>\n",
              "      <td>-3.0285</td>\n",
              "      <td>21</td>\n",
              "      <td>...</td>\n",
              "      <td>2</td>\n",
              "      <td>0</td>\n",
              "      <td>2</td>\n",
              "      <td>4</td>\n",
              "      <td>1</td>\n",
              "      <td>6</td>\n",
              "      <td>4</td>\n",
              "      <td>0</td>\n",
              "      <td>0</td>\n",
              "      <td>2</td>\n",
              "    </tr>\n",
              "    <tr>\n",
              "      <th>4</th>\n",
              "      <td>255.089543</td>\n",
              "      <td>1.000000</td>\n",
              "      <td>242.169</td>\n",
              "      <td>0.480985</td>\n",
              "      <td>0.307396</td>\n",
              "      <td>-0.480985</td>\n",
              "      <td>255.273</td>\n",
              "      <td>96</td>\n",
              "      <td>2.1269</td>\n",
              "      <td>19</td>\n",
              "      <td>...</td>\n",
              "      <td>2</td>\n",
              "      <td>0</td>\n",
              "      <td>2</td>\n",
              "      <td>3</td>\n",
              "      <td>2</td>\n",
              "      <td>4</td>\n",
              "      <td>4</td>\n",
              "      <td>0</td>\n",
              "      <td>0</td>\n",
              "      <td>2</td>\n",
              "    </tr>\n",
              "  </tbody>\n",
              "</table>\n",
              "<p>5 rows × 24 columns</p>\n",
              "</div>\n",
              "      <button class=\"colab-df-convert\" onclick=\"convertToInteractive('df-859a4101-af0a-4b89-a8f3-f2c738d44871')\"\n",
              "              title=\"Convert this dataframe to an interactive table.\"\n",
              "              style=\"display:none;\">\n",
              "        \n",
              "  <svg xmlns=\"http://www.w3.org/2000/svg\" height=\"24px\"viewBox=\"0 0 24 24\"\n",
              "       width=\"24px\">\n",
              "    <path d=\"M0 0h24v24H0V0z\" fill=\"none\"/>\n",
              "    <path d=\"M18.56 5.44l.94 2.06.94-2.06 2.06-.94-2.06-.94-.94-2.06-.94 2.06-2.06.94zm-11 1L8.5 8.5l.94-2.06 2.06-.94-2.06-.94L8.5 2.5l-.94 2.06-2.06.94zm10 10l.94 2.06.94-2.06 2.06-.94-2.06-.94-.94-2.06-.94 2.06-2.06.94z\"/><path d=\"M17.41 7.96l-1.37-1.37c-.4-.4-.92-.59-1.43-.59-.52 0-1.04.2-1.43.59L10.3 9.45l-7.72 7.72c-.78.78-.78 2.05 0 2.83L4 21.41c.39.39.9.59 1.41.59.51 0 1.02-.2 1.41-.59l7.78-7.78 2.81-2.81c.8-.78.8-2.07 0-2.86zM5.41 20L4 18.59l7.72-7.72 1.47 1.35L5.41 20z\"/>\n",
              "  </svg>\n",
              "      </button>\n",
              "      \n",
              "  <style>\n",
              "    .colab-df-container {\n",
              "      display:flex;\n",
              "      flex-wrap:wrap;\n",
              "      gap: 12px;\n",
              "    }\n",
              "\n",
              "    .colab-df-convert {\n",
              "      background-color: #E8F0FE;\n",
              "      border: none;\n",
              "      border-radius: 50%;\n",
              "      cursor: pointer;\n",
              "      display: none;\n",
              "      fill: #1967D2;\n",
              "      height: 32px;\n",
              "      padding: 0 0 0 0;\n",
              "      width: 32px;\n",
              "    }\n",
              "\n",
              "    .colab-df-convert:hover {\n",
              "      background-color: #E2EBFA;\n",
              "      box-shadow: 0px 1px 2px rgba(60, 64, 67, 0.3), 0px 1px 3px 1px rgba(60, 64, 67, 0.15);\n",
              "      fill: #174EA6;\n",
              "    }\n",
              "\n",
              "    [theme=dark] .colab-df-convert {\n",
              "      background-color: #3B4455;\n",
              "      fill: #D2E3FC;\n",
              "    }\n",
              "\n",
              "    [theme=dark] .colab-df-convert:hover {\n",
              "      background-color: #434B5C;\n",
              "      box-shadow: 0px 1px 3px 1px rgba(0, 0, 0, 0.15);\n",
              "      filter: drop-shadow(0px 1px 2px rgba(0, 0, 0, 0.3));\n",
              "      fill: #FFFFFF;\n",
              "    }\n",
              "  </style>\n",
              "\n",
              "      <script>\n",
              "        const buttonEl =\n",
              "          document.querySelector('#df-859a4101-af0a-4b89-a8f3-f2c738d44871 button.colab-df-convert');\n",
              "        buttonEl.style.display =\n",
              "          google.colab.kernel.accessAllowed ? 'block' : 'none';\n",
              "\n",
              "        async function convertToInteractive(key) {\n",
              "          const element = document.querySelector('#df-859a4101-af0a-4b89-a8f3-f2c738d44871');\n",
              "          const dataTable =\n",
              "            await google.colab.kernel.invokeFunction('convertToInteractive',\n",
              "                                                     [key], {});\n",
              "          if (!dataTable) return;\n",
              "\n",
              "          const docLinkHtml = 'Like what you see? Visit the ' +\n",
              "            '<a target=\"_blank\" href=https://colab.research.google.com/notebooks/data_table.ipynb>data table notebook</a>'\n",
              "            + ' to learn more about interactive tables.';\n",
              "          element.innerHTML = '';\n",
              "          dataTable['output_type'] = 'display_data';\n",
              "          await google.colab.output.renderOutput(dataTable, element);\n",
              "          const docLink = document.createElement('div');\n",
              "          docLink.innerHTML = docLinkHtml;\n",
              "          element.appendChild(docLink);\n",
              "        }\n",
              "      </script>\n",
              "    </div>\n",
              "  </div>\n",
              "  "
            ]
          },
          "metadata": {},
          "execution_count": 30
        }
      ]
    },
    {
      "cell_type": "code",
      "source": [
        "valid_x.shape"
      ],
      "metadata": {
        "colab": {
          "base_uri": "https://localhost:8080/"
        },
        "id": "WKTAU20q1j9s",
        "outputId": "1eac96e1-478e-46f4-cffd-7d3db33333a8"
      },
      "execution_count": 31,
      "outputs": [
        {
          "output_type": "execute_result",
          "data": {
            "text/plain": [
              "(91, 24)"
            ]
          },
          "metadata": {},
          "execution_count": 31
        }
      ]
    },
    {
      "cell_type": "code",
      "source": [
        "valid_x.head(5)"
      ],
      "metadata": {
        "colab": {
          "base_uri": "https://localhost:8080/",
          "height": 299
        },
        "id": "A27VNUTA1pzg",
        "outputId": "71f52989-0914-461c-b7cb-e5882a7c09ef"
      },
      "execution_count": 32,
      "outputs": [
        {
          "output_type": "execute_result",
          "data": {
            "text/plain": [
              "     Exact_MW  FpDensityMorgan1  HeavyAtomMolWt  MaxAbsPartialCharge  \\\n",
              "0  303.147058          1.318182         282.190             0.461720   \n",
              "1  303.147058          1.318182         282.190             0.461720   \n",
              "2  418.089997          0.666667         400.210             0.492684   \n",
              "3  390.095082          0.892857         372.200             0.492699   \n",
              "4  810.420379          0.949153         752.525             0.496343   \n",
              "\n",
              "   MinAbsPartialCharge  MinPartialCharge    MolWt  NumValenceElectrons  \\\n",
              "0             0.315550         -0.461720  303.358                  118   \n",
              "1             0.315550         -0.461720  303.358                  118   \n",
              "2             0.338269         -0.492684  418.354                  158   \n",
              "3             0.338268         -0.492699  390.344                  148   \n",
              "4             0.343611         -0.496343  810.989                  316   \n",
              "\n",
              "   Partition_Coefficient  Heavy_atoms  ...  Aromatic_carbocycles  \\\n",
              "0                 0.9181           22  ...                     1   \n",
              "1                 0.9181           22  ...                     1   \n",
              "2                 2.4014           30  ...                     2   \n",
              "3                 2.1071           28  ...                     2   \n",
              "4                 3.9909           59  ...                     2   \n",
              "\n",
              "   Aromatic_heterocycles  Aromatic_rings  HAcceptors  HDonors  Heteroatoms  \\\n",
              "0                      0               1           5        1            5   \n",
              "1                      0               1           5        1            5   \n",
              "2                      0               2          10        0           10   \n",
              "3                      0               2           9        1            9   \n",
              "4                      1               3          12        3           13   \n",
              "\n",
              "   Rotatable_Bonds  Saturated_Heterocycles  Saturated_Rings  Rings  \n",
              "0                4                       3                3      4  \n",
              "1                4                       3                3      4  \n",
              "2                5                       0                0      4  \n",
              "3                5                       0                0      4  \n",
              "4                7                       2                3      9  \n",
              "\n",
              "[5 rows x 24 columns]"
            ],
            "text/html": [
              "\n",
              "  <div id=\"df-5849da5a-8a8f-4b3e-9bba-100dbb0a4390\">\n",
              "    <div class=\"colab-df-container\">\n",
              "      <div>\n",
              "<style scoped>\n",
              "    .dataframe tbody tr th:only-of-type {\n",
              "        vertical-align: middle;\n",
              "    }\n",
              "\n",
              "    .dataframe tbody tr th {\n",
              "        vertical-align: top;\n",
              "    }\n",
              "\n",
              "    .dataframe thead th {\n",
              "        text-align: right;\n",
              "    }\n",
              "</style>\n",
              "<table border=\"1\" class=\"dataframe\">\n",
              "  <thead>\n",
              "    <tr style=\"text-align: right;\">\n",
              "      <th></th>\n",
              "      <th>Exact_MW</th>\n",
              "      <th>FpDensityMorgan1</th>\n",
              "      <th>HeavyAtomMolWt</th>\n",
              "      <th>MaxAbsPartialCharge</th>\n",
              "      <th>MinAbsPartialCharge</th>\n",
              "      <th>MinPartialCharge</th>\n",
              "      <th>MolWt</th>\n",
              "      <th>NumValenceElectrons</th>\n",
              "      <th>Partition_Coefficient</th>\n",
              "      <th>Heavy_atoms</th>\n",
              "      <th>...</th>\n",
              "      <th>Aromatic_carbocycles</th>\n",
              "      <th>Aromatic_heterocycles</th>\n",
              "      <th>Aromatic_rings</th>\n",
              "      <th>HAcceptors</th>\n",
              "      <th>HDonors</th>\n",
              "      <th>Heteroatoms</th>\n",
              "      <th>Rotatable_Bonds</th>\n",
              "      <th>Saturated_Heterocycles</th>\n",
              "      <th>Saturated_Rings</th>\n",
              "      <th>Rings</th>\n",
              "    </tr>\n",
              "  </thead>\n",
              "  <tbody>\n",
              "    <tr>\n",
              "      <th>0</th>\n",
              "      <td>303.147058</td>\n",
              "      <td>1.318182</td>\n",
              "      <td>282.190</td>\n",
              "      <td>0.461720</td>\n",
              "      <td>0.315550</td>\n",
              "      <td>-0.461720</td>\n",
              "      <td>303.358</td>\n",
              "      <td>118</td>\n",
              "      <td>0.9181</td>\n",
              "      <td>22</td>\n",
              "      <td>...</td>\n",
              "      <td>1</td>\n",
              "      <td>0</td>\n",
              "      <td>1</td>\n",
              "      <td>5</td>\n",
              "      <td>1</td>\n",
              "      <td>5</td>\n",
              "      <td>4</td>\n",
              "      <td>3</td>\n",
              "      <td>3</td>\n",
              "      <td>4</td>\n",
              "    </tr>\n",
              "    <tr>\n",
              "      <th>1</th>\n",
              "      <td>303.147058</td>\n",
              "      <td>1.318182</td>\n",
              "      <td>282.190</td>\n",
              "      <td>0.461720</td>\n",
              "      <td>0.315550</td>\n",
              "      <td>-0.461720</td>\n",
              "      <td>303.358</td>\n",
              "      <td>118</td>\n",
              "      <td>0.9181</td>\n",
              "      <td>22</td>\n",
              "      <td>...</td>\n",
              "      <td>1</td>\n",
              "      <td>0</td>\n",
              "      <td>1</td>\n",
              "      <td>5</td>\n",
              "      <td>1</td>\n",
              "      <td>5</td>\n",
              "      <td>4</td>\n",
              "      <td>3</td>\n",
              "      <td>3</td>\n",
              "      <td>4</td>\n",
              "    </tr>\n",
              "    <tr>\n",
              "      <th>2</th>\n",
              "      <td>418.089997</td>\n",
              "      <td>0.666667</td>\n",
              "      <td>400.210</td>\n",
              "      <td>0.492684</td>\n",
              "      <td>0.338269</td>\n",
              "      <td>-0.492684</td>\n",
              "      <td>418.354</td>\n",
              "      <td>158</td>\n",
              "      <td>2.4014</td>\n",
              "      <td>30</td>\n",
              "      <td>...</td>\n",
              "      <td>2</td>\n",
              "      <td>0</td>\n",
              "      <td>2</td>\n",
              "      <td>10</td>\n",
              "      <td>0</td>\n",
              "      <td>10</td>\n",
              "      <td>5</td>\n",
              "      <td>0</td>\n",
              "      <td>0</td>\n",
              "      <td>4</td>\n",
              "    </tr>\n",
              "    <tr>\n",
              "      <th>3</th>\n",
              "      <td>390.095082</td>\n",
              "      <td>0.892857</td>\n",
              "      <td>372.200</td>\n",
              "      <td>0.492699</td>\n",
              "      <td>0.338268</td>\n",
              "      <td>-0.492699</td>\n",
              "      <td>390.344</td>\n",
              "      <td>148</td>\n",
              "      <td>2.1071</td>\n",
              "      <td>28</td>\n",
              "      <td>...</td>\n",
              "      <td>2</td>\n",
              "      <td>0</td>\n",
              "      <td>2</td>\n",
              "      <td>9</td>\n",
              "      <td>1</td>\n",
              "      <td>9</td>\n",
              "      <td>5</td>\n",
              "      <td>0</td>\n",
              "      <td>0</td>\n",
              "      <td>4</td>\n",
              "    </tr>\n",
              "    <tr>\n",
              "      <th>4</th>\n",
              "      <td>810.420379</td>\n",
              "      <td>0.949153</td>\n",
              "      <td>752.525</td>\n",
              "      <td>0.496343</td>\n",
              "      <td>0.343611</td>\n",
              "      <td>-0.496343</td>\n",
              "      <td>810.989</td>\n",
              "      <td>316</td>\n",
              "      <td>3.9909</td>\n",
              "      <td>59</td>\n",
              "      <td>...</td>\n",
              "      <td>2</td>\n",
              "      <td>1</td>\n",
              "      <td>3</td>\n",
              "      <td>12</td>\n",
              "      <td>3</td>\n",
              "      <td>13</td>\n",
              "      <td>7</td>\n",
              "      <td>2</td>\n",
              "      <td>3</td>\n",
              "      <td>9</td>\n",
              "    </tr>\n",
              "  </tbody>\n",
              "</table>\n",
              "<p>5 rows × 24 columns</p>\n",
              "</div>\n",
              "      <button class=\"colab-df-convert\" onclick=\"convertToInteractive('df-5849da5a-8a8f-4b3e-9bba-100dbb0a4390')\"\n",
              "              title=\"Convert this dataframe to an interactive table.\"\n",
              "              style=\"display:none;\">\n",
              "        \n",
              "  <svg xmlns=\"http://www.w3.org/2000/svg\" height=\"24px\"viewBox=\"0 0 24 24\"\n",
              "       width=\"24px\">\n",
              "    <path d=\"M0 0h24v24H0V0z\" fill=\"none\"/>\n",
              "    <path d=\"M18.56 5.44l.94 2.06.94-2.06 2.06-.94-2.06-.94-.94-2.06-.94 2.06-2.06.94zm-11 1L8.5 8.5l.94-2.06 2.06-.94-2.06-.94L8.5 2.5l-.94 2.06-2.06.94zm10 10l.94 2.06.94-2.06 2.06-.94-2.06-.94-.94-2.06-.94 2.06-2.06.94z\"/><path d=\"M17.41 7.96l-1.37-1.37c-.4-.4-.92-.59-1.43-.59-.52 0-1.04.2-1.43.59L10.3 9.45l-7.72 7.72c-.78.78-.78 2.05 0 2.83L4 21.41c.39.39.9.59 1.41.59.51 0 1.02-.2 1.41-.59l7.78-7.78 2.81-2.81c.8-.78.8-2.07 0-2.86zM5.41 20L4 18.59l7.72-7.72 1.47 1.35L5.41 20z\"/>\n",
              "  </svg>\n",
              "      </button>\n",
              "      \n",
              "  <style>\n",
              "    .colab-df-container {\n",
              "      display:flex;\n",
              "      flex-wrap:wrap;\n",
              "      gap: 12px;\n",
              "    }\n",
              "\n",
              "    .colab-df-convert {\n",
              "      background-color: #E8F0FE;\n",
              "      border: none;\n",
              "      border-radius: 50%;\n",
              "      cursor: pointer;\n",
              "      display: none;\n",
              "      fill: #1967D2;\n",
              "      height: 32px;\n",
              "      padding: 0 0 0 0;\n",
              "      width: 32px;\n",
              "    }\n",
              "\n",
              "    .colab-df-convert:hover {\n",
              "      background-color: #E2EBFA;\n",
              "      box-shadow: 0px 1px 2px rgba(60, 64, 67, 0.3), 0px 1px 3px 1px rgba(60, 64, 67, 0.15);\n",
              "      fill: #174EA6;\n",
              "    }\n",
              "\n",
              "    [theme=dark] .colab-df-convert {\n",
              "      background-color: #3B4455;\n",
              "      fill: #D2E3FC;\n",
              "    }\n",
              "\n",
              "    [theme=dark] .colab-df-convert:hover {\n",
              "      background-color: #434B5C;\n",
              "      box-shadow: 0px 1px 3px 1px rgba(0, 0, 0, 0.15);\n",
              "      filter: drop-shadow(0px 1px 2px rgba(0, 0, 0, 0.3));\n",
              "      fill: #FFFFFF;\n",
              "    }\n",
              "  </style>\n",
              "\n",
              "      <script>\n",
              "        const buttonEl =\n",
              "          document.querySelector('#df-5849da5a-8a8f-4b3e-9bba-100dbb0a4390 button.colab-df-convert');\n",
              "        buttonEl.style.display =\n",
              "          google.colab.kernel.accessAllowed ? 'block' : 'none';\n",
              "\n",
              "        async function convertToInteractive(key) {\n",
              "          const element = document.querySelector('#df-5849da5a-8a8f-4b3e-9bba-100dbb0a4390');\n",
              "          const dataTable =\n",
              "            await google.colab.kernel.invokeFunction('convertToInteractive',\n",
              "                                                     [key], {});\n",
              "          if (!dataTable) return;\n",
              "\n",
              "          const docLinkHtml = 'Like what you see? Visit the ' +\n",
              "            '<a target=\"_blank\" href=https://colab.research.google.com/notebooks/data_table.ipynb>data table notebook</a>'\n",
              "            + ' to learn more about interactive tables.';\n",
              "          element.innerHTML = '';\n",
              "          dataTable['output_type'] = 'display_data';\n",
              "          await google.colab.output.renderOutput(dataTable, element);\n",
              "          const docLink = document.createElement('div');\n",
              "          docLink.innerHTML = docLinkHtml;\n",
              "          element.appendChild(docLink);\n",
              "        }\n",
              "      </script>\n",
              "    </div>\n",
              "  </div>\n",
              "  "
            ]
          },
          "metadata": {},
          "execution_count": 32
        }
      ]
    },
    {
      "cell_type": "code",
      "source": [
        "y_train=train.Y\n",
        "y_valid=valid.Y\n",
        "y_test=test.Y"
      ],
      "metadata": {
        "id": "NvaWhD4D4aoT"
      },
      "execution_count": 33,
      "outputs": []
    },
    {
      "cell_type": "markdown",
      "source": [
        "Building ML model"
      ],
      "metadata": {
        "id": "dBnc9RW03or9"
      }
    },
    {
      "cell_type": "code",
      "source": [
        "from sklearn.linear_model import LinearRegression\n",
        "from sklearn.neighbors import KNeighborsRegressor\n",
        "from sklearn.svm import SVR\n",
        "from sklearn.tree import DecisionTreeRegressor\n",
        "from sklearn.ensemble import BaggingRegressor, RandomForestRegressor, ExtraTreesRegressor, GradientBoostingRegressor, AdaBoostRegressor\n",
        "\n",
        "from sklearn.metrics import r2_score as r2\n",
        "from sklearn.metrics import mean_absolute_error as mae"
      ],
      "metadata": {
        "id": "r-cVVluK45Tm"
      },
      "execution_count": 34,
      "outputs": []
    },
    {
      "cell_type": "code",
      "source": [
        "lin = LinearRegression()\n",
        "knn = KNeighborsRegressor()\n",
        "svr = SVR()\n",
        "tree = DecisionTreeRegressor(random_state=0)\n",
        "bag = BaggingRegressor(DecisionTreeRegressor(random_state=0), random_state=0)\n",
        "forest = RandomForestRegressor(random_state=0)\n",
        "et = ExtraTreesRegressor(random_state=0)\n",
        "grad = GradientBoostingRegressor(random_state=0)\n",
        "ada = AdaBoostRegressor(DecisionTreeRegressor(random_state=0),random_state=0)"
      ],
      "metadata": {
        "id": "lJXx5pgQ5smP"
      },
      "execution_count": 35,
      "outputs": []
    },
    {
      "cell_type": "code",
      "source": [
        "MAE = []\n",
        "R2=[]\n",
        "for i in (lin, knn, svr, tree, bag, forest, et, grad, ada):\n",
        "  i.fit(train_x, y_train)\n",
        "  y_valid_pred = i.predict(valid_x)\n",
        "  \n",
        "  R2.append(r2(y_valid, y_valid_pred))\n",
        "  MAE.append(mae(y_valid, y_valid_pred))"
      ],
      "metadata": {
        "id": "KfuV-v516n5l"
      },
      "execution_count": 36,
      "outputs": []
    },
    {
      "cell_type": "code",
      "source": [
        "R2"
      ],
      "metadata": {
        "colab": {
          "base_uri": "https://localhost:8080/"
        },
        "id": "e5gl9tG48CO0",
        "outputId": "fdf7216f-2b09-4158-eb35-e2f9838c5230"
      },
      "execution_count": 37,
      "outputs": [
        {
          "output_type": "execute_result",
          "data": {
            "text/plain": [
              "[0.6485451648655713,\n",
              " 0.15295132373894604,\n",
              " 0.25143391509964286,\n",
              " 0.23558279169887208,\n",
              " 0.6720264636108249,\n",
              " 0.6955830833595444,\n",
              " 0.7027292418603545,\n",
              " 0.7013888963935795,\n",
              " 0.6861575995924201]"
            ]
          },
          "metadata": {},
          "execution_count": 37
        }
      ]
    },
    {
      "cell_type": "code",
      "source": [
        "pd.Series(R2, index=('MLR', 'KNN', 'SVR', 'Decision-tree', 'Bagging', 'Random-forest', 'Extra-tree', 'Gradient-Boosting', 'Ada-Boost')).plot(grid=True, figsize=(8,5))\n",
        "plt.xticks(rotation = 60)\n",
        "plt.ylabel('R2')\n",
        "plt.show()"
      ],
      "metadata": {
        "colab": {
          "base_uri": "https://localhost:8080/",
          "height": 393
        },
        "id": "sNFWLEMf8JJv",
        "outputId": "cb46ab67-9103-4cb9-f7ab-6347fe89ae81"
      },
      "execution_count": 38,
      "outputs": [
        {
          "output_type": "display_data",
          "data": {
            "text/plain": [
              "<Figure size 576x360 with 1 Axes>"
            ],
            "image/png": "[encoded data removed]"
          },
          "metadata": {
            "needs_background": "light"
          }
        }
      ]
    },
    {
      "cell_type": "code",
      "source": [
        "MAE"
      ],
      "metadata": {
        "colab": {
          "base_uri": "https://localhost:8080/"
        },
        "id": "84yR4RDQ7Ayj",
        "outputId": "402d1c53-b033-4119-efc5-163d9137c75b"
      },
      "execution_count": 39,
      "outputs": [
        {
          "output_type": "execute_result",
          "data": {
            "text/plain": [
              "[0.3793710201942583,\n",
              " 0.5769759808791207,\n",
              " 0.5204023312542517,\n",
              " 0.5168667353479852,\n",
              " 0.364262564697017,\n",
              " 0.35358376099663824,\n",
              " 0.3469466677838834,\n",
              " 0.3614130470762153,\n",
              " 0.36677713122710615]"
            ]
          },
          "metadata": {},
          "execution_count": 39
        }
      ]
    },
    {
      "cell_type": "code",
      "source": [
        "pd.Series(MAE, index=('MLR', 'KNN', 'SVR', 'Decision-tree', 'Bagging', 'Random-forest', 'Extra-tree', 'Gradient-Boosting', 'Ada-Boost')).plot(grid=True, figsize=(8,5))\n",
        "plt.xticks(rotation = 60)\n",
        "plt.ylabel('MAE')\n",
        "plt.show()"
      ],
      "metadata": {
        "colab": {
          "base_uri": "https://localhost:8080/",
          "height": 393
        },
        "id": "7TOlzVOz7LA9",
        "outputId": "b853e791-4eca-4d93-9379-1c9cd8858a3c"
      },
      "execution_count": 40,
      "outputs": [
        {
          "output_type": "display_data",
          "data": {
            "text/plain": [
              "<Figure size 576x360 with 1 Axes>"
            ],
            "image/png": "[encoded data removed]"
          },
          "metadata": {
            "needs_background": "light"
          }
        }
      ]
    },
    {
      "cell_type": "markdown",
      "source": [
        "Here Bagging, Random-forest, Extra-tree, Gradient-Boosting and Ada-Boost this 5 models gives best statistical results. So, we will try to tune parameters of this models to get better results."
      ],
      "metadata": {
        "id": "xxB4Rq38_ufT"
      }
    },
    {
      "cell_type": "markdown",
      "source": [
        "Bagging parameter tuning"
      ],
      "metadata": {
        "id": "ieii5gIeGwGV"
      }
    },
    {
      "cell_type": "code",
      "source": [
        "e = []\n",
        "for i in np.arange(50,500,50):   \n",
        "  bag = BaggingRegressor(DecisionTreeRegressor(random_state=0), random_state=0, n_estimators = i)\n",
        "  bag.fit(train_x, y_train)\n",
        "  y_valid_pred = bag.predict(valid_x)\n",
        "\n",
        "  e.append(mae(y_valid, y_valid_pred))"
      ],
      "metadata": {
        "id": "hYUsmbusGUMv"
      },
      "execution_count": 41,
      "outputs": []
    },
    {
      "cell_type": "code",
      "source": [
        "pd.Series(e, index=np.arange(50,500,50)).plot(grid= True, figsize=(8,5))\n",
        "plt.xlabel('n_estimators')\n",
        "plt.ylabel('MAE')\n",
        "plt.show()"
      ],
      "metadata": {
        "colab": {
          "base_uri": "https://localhost:8080/",
          "height": 335
        },
        "id": "I3Ga1IMDGgwr",
        "outputId": "793ba3aa-deff-4fb9-a97f-ff107b83d2cf"
      },
      "execution_count": 42,
      "outputs": [
        {
          "output_type": "display_data",
          "data": {
            "text/plain": [
              "<Figure size 576x360 with 1 Axes>"
            ],
            "image/png": "[encoded data removed]"
          },
          "metadata": {
            "needs_background": "light"
          }
        }
      ]
    },
    {
      "cell_type": "code",
      "source": [
        "bag = BaggingRegressor(DecisionTreeRegressor(random_state=0), n_estimators = 50, random_state=0)\n",
        "\n",
        "bag.fit(train_x, y_train)\n",
        "y_valid_pred = bag.predict(valid_x)\n",
        "\n",
        "mae(y_valid, y_valid_pred)"
      ],
      "metadata": {
        "colab": {
          "base_uri": "https://localhost:8080/"
        },
        "id": "lvU4wPxBGp-H",
        "outputId": "4056188e-1ad7-4731-e0fc-a96bbf8ad7a3"
      },
      "execution_count": 43,
      "outputs": [
        {
          "output_type": "execute_result",
          "data": {
            "text/plain": [
              "0.3440605793617217"
            ]
          },
          "metadata": {},
          "execution_count": 43
        }
      ]
    },
    {
      "cell_type": "markdown",
      "source": [
        "Random forest parameter tuning"
      ],
      "metadata": {
        "id": "xHXYu6wAG96x"
      }
    },
    {
      "cell_type": "code",
      "source": [
        "e = []\n",
        "for i in np.arange(50,500,50):   \n",
        "  rf = RandomForestRegressor( random_state=0, n_estimators = i)\n",
        "  rf.fit(train_x, y_train)\n",
        "  y_valid_pred = bag.predict(valid_x)\n",
        "\n",
        "  e.append(mae(y_valid, y_valid_pred))"
      ],
      "metadata": {
        "id": "F-52c_1cHE8x"
      },
      "execution_count": 44,
      "outputs": []
    },
    {
      "cell_type": "code",
      "source": [
        "pd.Series(e, index=np.arange(50,500,50)).plot(grid= True, figsize=(8,5))\n",
        "plt.xlabel('n_estimators')\n",
        "plt.ylabel('MAE')\n",
        "plt.show()"
      ],
      "metadata": {
        "colab": {
          "base_uri": "https://localhost:8080/",
          "height": 335
        },
        "id": "hnnnzbCbHlK9",
        "outputId": "4b82c408-a3d6-4ef6-9bff-b6042a3245df"
      },
      "execution_count": 45,
      "outputs": [
        {
          "output_type": "display_data",
          "data": {
            "text/plain": [
              "<Figure size 576x360 with 1 Axes>"
            ],
            "image/png": "[encoded data removed]"
          },
          "metadata": {
            "needs_background": "light"
          }
        }
      ]
    },
    {
      "cell_type": "code",
      "source": [
        "rf = RandomForestRegressor(random_state=0)\n",
        "\n",
        "rf.fit(train_x, y_train)\n",
        "y_valid_pred = rf.predict(valid_x)\n",
        "\n",
        "mae(y_valid, y_valid_pred)"
      ],
      "metadata": {
        "colab": {
          "base_uri": "https://localhost:8080/"
        },
        "id": "DbGG-ke0HrBv",
        "outputId": "15b013a3-3686-4f0d-9e87-500193876717"
      },
      "execution_count": 46,
      "outputs": [
        {
          "output_type": "execute_result",
          "data": {
            "text/plain": [
              "0.35358376099663824"
            ]
          },
          "metadata": {},
          "execution_count": 46
        }
      ]
    },
    {
      "cell_type": "markdown",
      "source": [
        "Extra-tree parameter tuning"
      ],
      "metadata": {
        "id": "NApZuCPUIBbs"
      }
    },
    {
      "cell_type": "code",
      "source": [
        "e = []\n",
        "for i in np.arange(50,500,50):   \n",
        "  et = ExtraTreesRegressor(random_state=0, n_estimators = i)\n",
        "  et.fit(train_x, y_train)\n",
        "  y_valid_pred = bag.predict(valid_x)\n",
        "\n",
        "  e.append(mae(y_valid, y_valid_pred))"
      ],
      "metadata": {
        "id": "C2Vy4BKEHxkV"
      },
      "execution_count": 47,
      "outputs": []
    },
    {
      "cell_type": "code",
      "source": [
        "pd.Series(e, index=np.arange(50,500,50)).plot(grid= True, figsize=(8,5))\n",
        "plt.xlabel('n_estimators')\n",
        "plt.ylabel('MAE')\n",
        "plt.show()"
      ],
      "metadata": {
        "colab": {
          "base_uri": "https://localhost:8080/",
          "height": 335
        },
        "id": "hGnMfVFFH3ad",
        "outputId": "90adabdc-4023-4af7-adbd-4dff99e03fee"
      },
      "execution_count": 48,
      "outputs": [
        {
          "output_type": "display_data",
          "data": {
            "text/plain": [
              "<Figure size 576x360 with 1 Axes>"
            ],
            "image/png": "[encoded data removed]"
          },
          "metadata": {
            "needs_background": "light"
          }
        }
      ]
    },
    {
      "cell_type": "code",
      "source": [
        "et = ExtraTreesRegressor(random_state=0)\n",
        "\n",
        "et.fit(train_x, y_train)\n",
        "y_valid_pred = et.predict(valid_x)\n",
        "\n",
        "mae(y_valid, y_valid_pred)"
      ],
      "metadata": {
        "colab": {
          "base_uri": "https://localhost:8080/"
        },
        "id": "wcN9QmasH88f",
        "outputId": "a0f3fd8f-79dd-4b96-8fff-096e730530dc"
      },
      "execution_count": 49,
      "outputs": [
        {
          "output_type": "execute_result",
          "data": {
            "text/plain": [
              "0.3469466677838834"
            ]
          },
          "metadata": {},
          "execution_count": 49
        }
      ]
    },
    {
      "cell_type": "markdown",
      "source": [
        "Gradient-Boosting parameter tuning"
      ],
      "metadata": {
        "id": "CZLT_P-ZIO40"
      }
    },
    {
      "cell_type": "code",
      "source": [
        "e = []\n",
        "for i in np.arange(50,500,50):\n",
        "  for j in np.arange(0.1, 0.5, 0.1):   \n",
        "    grad = GradientBoostingRegressor(random_state=0, n_estimators = i, learning_rate = j)\n",
        "    grad.fit(train_x, y_train)\n",
        "    y_valid_pred = grad.predict(valid_x)\n",
        "\n",
        "    e.append(mae(y_valid, y_valid_pred))"
      ],
      "metadata": {
        "id": "xZO1h65VIOOa"
      },
      "execution_count": 50,
      "outputs": []
    },
    {
      "cell_type": "code",
      "source": [
        "pd.Series(e, index=np.arange(50,500,50/4)).plot(grid= True, figsize=(8,5))\n",
        "plt.xlabel('n_estimators & learning rate')\n",
        "plt.ylabel('MAE')\n",
        "plt.show()"
      ],
      "metadata": {
        "colab": {
          "base_uri": "https://localhost:8080/",
          "height": 335
        },
        "id": "7sLbngtjIR4R",
        "outputId": "3047576f-f363-4d8b-b13f-61f192b61a36"
      },
      "execution_count": 51,
      "outputs": [
        {
          "output_type": "display_data",
          "data": {
            "text/plain": [
              "<Figure size 576x360 with 1 Axes>"
            ],
            "image/png": "[encoded data removed]"
          },
          "metadata": {
            "needs_background": "light"
          }
        }
      ]
    },
    {
      "cell_type": "code",
      "source": [
        "grad = GradientBoostingRegressor(n_estimators = 200, learning_rate = 0.1, random_state=0)\n",
        "\n",
        "grad.fit(train_x, y_train)\n",
        "y_valid_pred = grad.predict(valid_x)\n",
        "\n",
        "mae(y_valid, y_valid_pred)"
      ],
      "metadata": {
        "colab": {
          "base_uri": "https://localhost:8080/"
        },
        "id": "ogDlJjlxIewC",
        "outputId": "4af15afd-bcec-4cc5-8cad-a43db715f785"
      },
      "execution_count": 52,
      "outputs": [
        {
          "output_type": "execute_result",
          "data": {
            "text/plain": [
              "0.33741287154077115"
            ]
          },
          "metadata": {},
          "execution_count": 52
        }
      ]
    },
    {
      "cell_type": "markdown",
      "source": [
        "Ada-Boost Parameter tuning"
      ],
      "metadata": {
        "id": "NNtk5zrJIwPP"
      }
    },
    {
      "cell_type": "code",
      "source": [
        "e = []\n",
        "for i in np.arange(50,500,50):\n",
        "  for j in np.arange(0.1, 0.5, 0.1): \n",
        "    ada = AdaBoostRegressor(DecisionTreeRegressor(random_state=0), random_state=0, n_estimators = i, learning_rate = 0.1)\n",
        "    ada.fit(train_x, y_train)\n",
        "    y_valid_pred = ada.predict(valid_x)\n",
        "\n",
        "    e.append(mae(y_valid, y_valid_pred))"
      ],
      "metadata": {
        "id": "T8Ert60XIw1B"
      },
      "execution_count": 53,
      "outputs": []
    },
    {
      "cell_type": "code",
      "source": [
        "pd.Series(e, index=np.arange(50,500,50/4)).plot(grid= True, figsize=(8,5))\n",
        "plt.xlabel('n_estimators & learning_rate')\n",
        "plt.ylabel('MAE')\n",
        "plt.show()"
      ],
      "metadata": {
        "colab": {
          "base_uri": "https://localhost:8080/",
          "height": 335
        },
        "id": "9ceBmKq6I21B",
        "outputId": "855d9ec4-2eeb-41ce-9662-6fc3979027ed"
      },
      "execution_count": 54,
      "outputs": [
        {
          "output_type": "display_data",
          "data": {
            "text/plain": [
              "<Figure size 576x360 with 1 Axes>"
            ],
            "image/png": "[encoded data removed]"
          },
          "metadata": {
            "needs_background": "light"
          }
        }
      ]
    },
    {
      "cell_type": "code",
      "source": [
        "ada = AdaBoostRegressor(DecisionTreeRegressor(random_state=0), random_state=0, n_estimators = 50, learning_rate = 0.1)\n",
        "\n",
        "ada.fit(train_x, y_train)\n",
        "y_valid_pred = ada.predict(valid_x)\n",
        "\n",
        "mae(y_valid, y_valid_pred)"
      ],
      "metadata": {
        "colab": {
          "base_uri": "https://localhost:8080/"
        },
        "id": "2gW24rLBI7Rz",
        "outputId": "fd0eab9d-e6ed-44c6-e930-46cf3e186eb1"
      },
      "execution_count": 55,
      "outputs": [
        {
          "output_type": "execute_result",
          "data": {
            "text/plain": [
              "0.3345271536630036"
            ]
          },
          "metadata": {},
          "execution_count": 55
        }
      ]
    },
    {
      "cell_type": "markdown",
      "source": [
        "\n",
        "\n",
        "1.Bagging->   0.3440\n",
        "\n",
        "2.RandomForest->   0.3535\n",
        "\n",
        "3.ExtraTrees->   0.3469\n",
        "\n",
        "4.GradientBoost->   0.3374\n",
        "\n",
        "5.AdaBoost-> 0.3345\n",
        "\n"
      ],
      "metadata": {
        "id": "YpSCbSo8Qrxc"
      }
    },
    {
      "cell_type": "markdown",
      "source": [
        "Here AdaBoost with n_estimators=50 and learning_rate=0.1 gives lowest Mae on validation set"
      ],
      "metadata": {
        "id": "lJfrH7G_AFLc"
      }
    },
    {
      "cell_type": "markdown",
      "source": [
        "Using my Best Model to predict on the test set"
      ],
      "metadata": {
        "id": "-poWQF7KMaXI"
      }
    },
    {
      "cell_type": "code",
      "source": [
        ""
      ],
      "metadata": {
        "id": "I_Pah3xoBxYR"
      },
      "execution_count": null,
      "outputs": []
    },
    {
      "cell_type": "code",
      "source": [
        "# save best model\n",
        "import pickle\n",
        "\n",
        "pickle.dump(ada,open('tdc.pkl','wb'))"
      ],
      "metadata": {
        "id": "jg-VLaj8MbyC"
      },
      "execution_count": 56,
      "outputs": []
    },
    {
      "cell_type": "code",
      "source": [
        "# Importent features extractor function\n",
        "\n",
        "def useful_molecular_descriptors(table):\n",
        "\n",
        "  descriptors = pd.DataFrame()\n",
        "\n",
        "  mol = [Chem.MolFromSmiles(drug) for drug in table.Drug]\n",
        "\n",
        "  # Exact molecular weight of the molecule\n",
        "  tdc= []\n",
        "  tdc.append([Descriptors.ExactMolWt(i) for i in mol])\n",
        "  descriptors['Exact_MW'] = tdc[0]\n",
        "\n",
        "  # FpDensityMorgan1\n",
        "  tdc= []\n",
        "  tdc.append([Descriptors.FpDensityMorgan1(i) for i in mol])\n",
        "  descriptors['FpDensityMorgan1'] = tdc[0]\n",
        "\n",
        "  # FpDensityMorgan2\n",
        "  tdc= []\n",
        "  tdc.append([Descriptors.FpDensityMorgan2(i) for i in mol])\n",
        "  descriptors['FpDensityMorgan2'] = tdc[0]\n",
        "\n",
        "  # Average molecular weight of the molecule ignoring hydrogens\n",
        "  tdc= []\n",
        "  tdc.append([Descriptors.HeavyAtomMolWt(i) for i in mol])\n",
        "  descriptors['HeavyAtomMolWt'] = tdc[0]\n",
        "\n",
        "  # MaxAbsPartialCharge\n",
        "  tdc= []\n",
        "  tdc.append([Descriptors.MaxAbsPartialCharge(i) for i in mol])\n",
        "  descriptors['MaxAbsPartialCharge'] = tdc[0]\n",
        "\n",
        "  # MinAbsPartialCharge\n",
        "  tdc= []\n",
        "  tdc.append([Descriptors.MinAbsPartialCharge(i) for i in mol])\n",
        "  descriptors['MinAbsPartialCharge'] = tdc[0]\n",
        "\n",
        "  # MinPartialCharge\n",
        "  tdc= []\n",
        "  tdc.append([Descriptors.MinPartialCharge(i) for i in mol])\n",
        "  descriptors['MinPartialCharge'] = tdc[0]\n",
        "\n",
        "   # Average molecular weight of the molecule\n",
        "  tdc= []\n",
        "  tdc.append([Descriptors.MolWt(i) for i in mol])\n",
        "  descriptors['MolWt'] = tdc[0]\n",
        "\n",
        "  # Number of valence electrons of the molecule\n",
        "  tdc= []\n",
        "  tdc.append([Descriptors.NumValenceElectrons(i) for i in mol])\n",
        "  descriptors['NumValenceElectrons'] = tdc[0]\n",
        "\n",
        "  # Log of partition coefficient\n",
        "  tdc= []\n",
        "  tdc.append([Descriptors.MolLogP(i) for i in mol])\n",
        "  descriptors['Partition_Coefficient'] = tdc[0]\n",
        "\n",
        "\n",
        "  ### Lipinski Descriptors ###\n",
        "\n",
        "  # Number of heavy atoms a molecule\n",
        "  tdc= []\n",
        "  tdc.append([Lipinski.HeavyAtomCount(i) for i in mol])\n",
        "  descriptors['Heavy_atoms'] = tdc[0]\n",
        "\n",
        "  # Number of NHs or OHs\n",
        "  tdc= []\n",
        "  tdc.append([Lipinski.NHOHCount(i) for i in mol])\n",
        "  descriptors['NHs/OHs'] = tdc[0]\n",
        "\n",
        "  # Number of Nitrogens and Oxygens\n",
        "  tdc= []\n",
        "  tdc.append([Lipinski.NOCount(i) for i in mol])\n",
        "  descriptors['N&O'] = tdc[0]\n",
        "\n",
        "  # Number of aliphatic (containing at least one non-aromatic bond) heterocycles for a molecule\n",
        "  tdc= []\n",
        "  tdc.append([Lipinski.NumAliphaticHeterocycles(i) for i in mol])\n",
        "  descriptors['Aliphatic_heterocycles'] = tdc[0]\n",
        "\n",
        "  # Number of aliphatic (containing at least one non-aromatic bond) rings for a molecule\n",
        "  tdc= []\n",
        "  tdc.append([Lipinski.NumAliphaticRings(i) for i in mol])\n",
        "  descriptors['Aliphatic_rings'] = tdc[0]\n",
        "\n",
        " # Nmber of aromatic carbocycles for a molecule\n",
        "  tdc= []\n",
        "  tdc.append([Lipinski.NumAromaticCarbocycles(i) for i in mol])\n",
        "  descriptors['Aromatic_carbocycles'] = tdc[0]\n",
        "\n",
        "  # Number of aromatic rings for a molecule\n",
        "  tdc= []\n",
        "  tdc.append([Lipinski.NumAromaticRings(i) for i in mol])\n",
        "  descriptors['Aromatic_rings'] = tdc[0]\n",
        "\n",
        "  # Number of Hydrogen Bond Acceptors\n",
        "  tdc= []\n",
        "  tdc.append([Lipinski.NumHAcceptors(i) for i in mol])\n",
        "  descriptors['HAcceptors'] = tdc[0]\n",
        "\n",
        "  # Number of Hydrogen Bond Donors\n",
        "  tdc= []\n",
        "  tdc.append([Lipinski.NumHDonors(i) for i in mol])\n",
        "  descriptors['HDonors'] = tdc[0]\n",
        "\n",
        "  # Number of Heteroatoms\n",
        "  tdc= []\n",
        "  tdc.append([Lipinski.NumHeteroatoms(i) for i in mol])\n",
        "  descriptors['Heteroatoms'] = tdc[0]\n",
        "\n",
        "  # Number of Rotatable Bonds\n",
        "  tdc= []\n",
        "  tdc.append([Lipinski.NumRotatableBonds(i) for i in mol])\n",
        "  descriptors['Rotatable_Bonds'] = tdc[0]\n",
        "\n",
        "  # Number of saturated heterocycles for a molecule\n",
        "  tdc= []\n",
        "  tdc.append([Lipinski.NumSaturatedHeterocycles(i) for i in mol])\n",
        "  descriptors['Saturated_Heterocycles'] = tdc[0]\n",
        "\n",
        "  # Number of saturated rings for a molecule\n",
        "  tdc= []\n",
        "  tdc.append([Lipinski.NumSaturatedRings(i) for i in mol])\n",
        "  descriptors['Saturated_Rings'] = tdc[0]\n",
        "\n",
        "  # Number of rings for a molecule\n",
        "  tdc= []\n",
        "  tdc.append([Lipinski.RingCount(i) for i in mol])\n",
        "  descriptors['Rings'] = tdc[0]\n",
        "\n",
        "  return descriptors"
      ],
      "metadata": {
        "id": "_BbPgo1hPZ02"
      },
      "execution_count": 57,
      "outputs": []
    },
    {
      "cell_type": "code",
      "source": [
        "from tdc.benchmark_group import admet_group\n",
        "group = admet_group(path = 'data/')\n",
        "predictions_list = []\n",
        "\n",
        "for seed in [1, 2, 3, 4, 5]:\n",
        "  benchmark = group.get('Caco2_Wang') \n",
        "  # all benchmark names in a benchmark group are stored in group.dataset_names\n",
        "  predictions = {}\n",
        "  name = benchmark['name']\n",
        "  train_val, test = benchmark['train_val'], benchmark['test']\n",
        "  train, valid = group.get_train_valid_split(benchmark = name, split_type = 'default', seed = seed)\n",
        "  \n",
        "  # features extraction\n",
        "  train_x = useful_molecular_descriptors(train)\n",
        "  valid_x = useful_molecular_descriptors(valid)\n",
        "  test_x = useful_molecular_descriptors(test)\n",
        "\n",
        "  # target column\n",
        "  y_train = train.Y\n",
        "  y_valid = valid.Y\n",
        "  y_test = test.Y\n",
        "\n",
        "  # merging traning and validation set\n",
        "  x_train = pd.concat([train_x, valid_x])\n",
        "  y_train = pd.concat([y_train, y_valid], axis=0)\n",
        "\n",
        "  # loading saved model\n",
        "  model = pickle.load(open('tdc.pkl','rb'))\n",
        "  # train saved model on train & validation set\n",
        "  model.fit(x_train, y_train)\n",
        "  # prediction on test set\n",
        "  y_pred_test = model.predict(test_x)\n",
        "\n",
        "  predictions[name] = y_pred_test\n",
        "  predictions_list.append(predictions)\n",
        "\n",
        "results = group.evaluate_many(predictions_list)"
      ],
      "metadata": {
        "colab": {
          "base_uri": "https://localhost:8080/"
        },
        "id": "SOwWUs07QBS4",
        "outputId": "2a6e9a6a-ec8d-42e0-c742-e29082b2f3a0"
      },
      "execution_count": 58,
      "outputs": [
        {
          "output_type": "stream",
          "name": "stderr",
          "text": [
            "Found local copy...\n",
            "generating training, validation splits...\n",
            "100%|██████████| 728/728 [00:00<00:00, 2227.27it/s]\n",
            "generating training, validation splits...\n",
            "100%|██████████| 728/728 [00:00<00:00, 2070.36it/s]\n",
            "generating training, validation splits...\n",
            "100%|██████████| 728/728 [00:00<00:00, 2050.44it/s]\n",
            "generating training, validation splits...\n",
            "100%|██████████| 728/728 [00:00<00:00, 2139.10it/s]\n",
            "generating training, validation splits...\n",
            "100%|██████████| 728/728 [00:00<00:00, 2035.44it/s]\n"
          ]
        }
      ]
    },
    {
      "cell_type": "code",
      "source": [
        "results"
      ],
      "metadata": {
        "colab": {
          "base_uri": "https://localhost:8080/"
        },
        "id": "PrvPVbE3QMeH",
        "outputId": "a6473a9f-3929-40e5-8077-2461df8caeb8"
      },
      "execution_count": 59,
      "outputs": [
        {
          "output_type": "execute_result",
          "data": {
            "text/plain": [
              "{'caco2_wang': [0.355, 0.025]}"
            ]
          },
          "metadata": {},
          "execution_count": 59
        }
      ]
    }
  ]
}